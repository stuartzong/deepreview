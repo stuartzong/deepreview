{
 "cells": [
  {
   "cell_type": "code",
   "execution_count": 2,
   "metadata": {},
   "outputs": [],
   "source": [
    "import pandas as pd\n",
    "from jinja2 import Environment, FileSystemLoader\n",
    "\n",
    "from IPython.core.interactiveshell import InteractiveShell\n",
    "InteractiveShell.ast_node_interactivity = \"all\""
   ]
  },
  {
   "cell_type": "code",
   "execution_count": 50,
   "metadata": {},
   "outputs": [
    {
     "data": {
      "text/html": [
       "<div>\n",
       "<style scoped>\n",
       "    .dataframe tbody tr th:only-of-type {\n",
       "        vertical-align: middle;\n",
       "    }\n",
       "\n",
       "    .dataframe tbody tr th {\n",
       "        vertical-align: top;\n",
       "    }\n",
       "\n",
       "    .dataframe thead th {\n",
       "        text-align: right;\n",
       "    }\n",
       "</style>\n",
       "<table border=\"1\" class=\"dataframe\">\n",
       "  <thead>\n",
       "    <tr style=\"text-align: right;\">\n",
       "      <th></th>\n",
       "      <th>patient</th>\n",
       "      <th>DNA_bam</th>\n",
       "      <th>RNA_bam</th>\n",
       "    </tr>\n",
       "  </thead>\n",
       "  <tbody>\n",
       "    <tr>\n",
       "      <th>0</th>\n",
       "      <td>HTMCP-03-06-02001</td>\n",
       "      <td>/projects/analysis/analysis22/A37234/merge_bwa...</td>\n",
       "      <td>/projects/analysis/analysis22/IX3433/C67GDANXX...</td>\n",
       "    </tr>\n",
       "    <tr>\n",
       "      <th>1</th>\n",
       "      <td>HTMCP-03-06-02002</td>\n",
       "      <td>/projects/analysis/analysis22/A37235/merge_bwa...</td>\n",
       "      <td>/projects/analysis/analysis22/IX3432/C67GDANXX...</td>\n",
       "    </tr>\n",
       "  </tbody>\n",
       "</table>\n",
       "</div>"
      ],
      "text/plain": [
       "             patient                                            DNA_bam  \\\n",
       "0  HTMCP-03-06-02001  /projects/analysis/analysis22/A37234/merge_bwa...   \n",
       "1  HTMCP-03-06-02002  /projects/analysis/analysis22/A37235/merge_bwa...   \n",
       "\n",
       "                                             RNA_bam  \n",
       "0  /projects/analysis/analysis22/IX3433/C67GDANXX...  \n",
       "1  /projects/analysis/analysis22/IX3432/C67GDANXX...  "
      ]
     },
     "execution_count": 50,
     "metadata": {},
     "output_type": "execute_result"
    },
    {
     "data": {
      "text/html": [
       "<div>\n",
       "<style scoped>\n",
       "    .dataframe tbody tr th:only-of-type {\n",
       "        vertical-align: middle;\n",
       "    }\n",
       "\n",
       "    .dataframe tbody tr th {\n",
       "        vertical-align: top;\n",
       "    }\n",
       "\n",
       "    .dataframe thead th {\n",
       "        text-align: right;\n",
       "    }\n",
       "</style>\n",
       "<table border=\"1\" class=\"dataframe\">\n",
       "  <thead>\n",
       "    <tr style=\"text-align: right;\">\n",
       "      <th></th>\n",
       "      <th>t_dna</th>\n",
       "      <th>t_rna</th>\n",
       "      <th>n_dna</th>\n",
       "    </tr>\n",
       "    <tr>\n",
       "      <th>patient</th>\n",
       "      <th></th>\n",
       "      <th></th>\n",
       "      <th></th>\n",
       "    </tr>\n",
       "  </thead>\n",
       "  <tbody>\n",
       "    <tr>\n",
       "      <th>HTMCP-03-06-02001</th>\n",
       "      <td>/projects/analysis/analysis22/A37234/merge_bwa...</td>\n",
       "      <td>/projects/analysis/analysis22/IX3433/C67GDANXX...</td>\n",
       "      <td>/projects/analysis/analysis22/A37159/merge_bwa...</td>\n",
       "    </tr>\n",
       "    <tr>\n",
       "      <th>HTMCP-03-06-02002</th>\n",
       "      <td>/projects/analysis/analysis22/A37235/merge_bwa...</td>\n",
       "      <td>/projects/analysis/analysis22/IX3432/C67GDANXX...</td>\n",
       "      <td>/projects/analysis/analysis22/A37160/merge_bwa...</td>\n",
       "    </tr>\n",
       "  </tbody>\n",
       "</table>\n",
       "</div>"
      ],
      "text/plain": [
       "                                                               t_dna  \\\n",
       "patient                                                                \n",
       "HTMCP-03-06-02001  /projects/analysis/analysis22/A37234/merge_bwa...   \n",
       "HTMCP-03-06-02002  /projects/analysis/analysis22/A37235/merge_bwa...   \n",
       "\n",
       "                                                               t_rna  \\\n",
       "patient                                                                \n",
       "HTMCP-03-06-02001  /projects/analysis/analysis22/IX3433/C67GDANXX...   \n",
       "HTMCP-03-06-02002  /projects/analysis/analysis22/IX3432/C67GDANXX...   \n",
       "\n",
       "                                                               n_dna  \n",
       "patient                                                               \n",
       "HTMCP-03-06-02001  /projects/analysis/analysis22/A37159/merge_bwa...  \n",
       "HTMCP-03-06-02002  /projects/analysis/analysis22/A37160/merge_bwa...  "
      ]
     },
     "execution_count": 50,
     "metadata": {},
     "output_type": "execute_result"
    }
   ],
   "source": [
    "meta = '/projects/trans_scratch/validations/workspace/szong/Cervical/variant_bwamem/124_patients_new/124_patients_bam_vcf.txt'\n",
    "df = pd.read_csv(meta, sep='\\t', usecols=['patient', 'DNA_bam', 'RNA_bam'])\n",
    "df.head(2)\n",
    "df1 = df.groupby('patient')[['DNA_bam', 'RNA_bam']].apply(lambda x: pd.Series(x.values.ravel().astype(str)[:3]))\n",
    "df1.columns = ['t_dna', 't_rna', 'n_dna']\n",
    "df1.head(2)"
   ]
  },
  {
   "cell_type": "code",
   "execution_count": 51,
   "metadata": {},
   "outputs": [
    {
     "data": {
      "text/html": [
       "<div>\n",
       "<style scoped>\n",
       "    .dataframe tbody tr th:only-of-type {\n",
       "        vertical-align: middle;\n",
       "    }\n",
       "\n",
       "    .dataframe tbody tr th {\n",
       "        vertical-align: top;\n",
       "    }\n",
       "\n",
       "    .dataframe thead th {\n",
       "        text-align: right;\n",
       "    }\n",
       "</style>\n",
       "<table border=\"1\" class=\"dataframe\">\n",
       "  <thead>\n",
       "    <tr style=\"text-align: right;\">\n",
       "      <th></th>\n",
       "      <th>chr</th>\n",
       "      <th>pos</th>\n",
       "      <th>ref</th>\n",
       "      <th>alt</th>\n",
       "      <th>patient</th>\n",
       "      <th>impact</th>\n",
       "      <th>impact_type</th>\n",
       "      <th>gene</th>\n",
       "      <th>start</th>\n",
       "      <th>end</th>\n",
       "    </tr>\n",
       "  </thead>\n",
       "  <tbody>\n",
       "    <tr>\n",
       "      <th>0</th>\n",
       "      <td>6</td>\n",
       "      <td>32548599</td>\n",
       "      <td>C</td>\n",
       "      <td>T</td>\n",
       "      <td>HTMCP-03-06-02001</td>\n",
       "      <td>SYNONYMOUS_CODING</td>\n",
       "      <td>LOW</td>\n",
       "      <td>HLA-DRB1</td>\n",
       "      <td>32548449</td>\n",
       "      <td>32548749</td>\n",
       "    </tr>\n",
       "    <tr>\n",
       "      <th>1</th>\n",
       "      <td>6</td>\n",
       "      <td>29910335</td>\n",
       "      <td>C</td>\n",
       "      <td>T</td>\n",
       "      <td>HTMCP-03-06-02002</td>\n",
       "      <td>NON_SYNONYMOUS_CODING</td>\n",
       "      <td>MODERATE</td>\n",
       "      <td>HLA-A</td>\n",
       "      <td>29910185</td>\n",
       "      <td>29910485</td>\n",
       "    </tr>\n",
       "  </tbody>\n",
       "</table>\n",
       "</div>"
      ],
      "text/plain": [
       "  chr       pos ref alt            patient                 impact impact_type  \\\n",
       "0   6  32548599   C   T  HTMCP-03-06-02001      SYNONYMOUS_CODING         LOW   \n",
       "1   6  29910335   C   T  HTMCP-03-06-02002  NON_SYNONYMOUS_CODING    MODERATE   \n",
       "\n",
       "       gene     start       end  \n",
       "0  HLA-DRB1  32548449  32548749  \n",
       "1     HLA-A  29910185  29910485  "
      ]
     },
     "execution_count": 51,
     "metadata": {},
     "output_type": "execute_result"
    }
   ],
   "source": [
    "f2 = '/projects/trans_scratch/validations/workspace/szong/Cervical/variant_bwamem/124_patients_new/mutations_immune_response.txt'\n",
    "df = pd.read_csv(f2, sep='\\t')\n",
    "df['start'] = df['pos'] - 150\n",
    "df['end'] = df['pos'] +150\n",
    "df = df.astype(str)\n",
    "df.head(2)\n"
   ]
  },
  {
   "cell_type": "code",
   "execution_count": 52,
   "metadata": {},
   "outputs": [],
   "source": [
    "df['positions'] = df['chr'] + ':' + df['start'] + '-' + df['end']\n",
    "    "
   ]
  },
  {
   "cell_type": "code",
   "execution_count": 53,
   "metadata": {},
   "outputs": [
    {
     "data": {
      "text/html": [
       "<div>\n",
       "<style scoped>\n",
       "    .dataframe tbody tr th:only-of-type {\n",
       "        vertical-align: middle;\n",
       "    }\n",
       "\n",
       "    .dataframe tbody tr th {\n",
       "        vertical-align: top;\n",
       "    }\n",
       "\n",
       "    .dataframe thead th {\n",
       "        text-align: right;\n",
       "    }\n",
       "</style>\n",
       "<table border=\"1\" class=\"dataframe\">\n",
       "  <thead>\n",
       "    <tr style=\"text-align: right;\">\n",
       "      <th></th>\n",
       "      <th>chr</th>\n",
       "      <th>pos</th>\n",
       "      <th>ref</th>\n",
       "      <th>alt</th>\n",
       "      <th>patient</th>\n",
       "      <th>impact</th>\n",
       "      <th>impact_type</th>\n",
       "      <th>gene</th>\n",
       "      <th>start</th>\n",
       "      <th>end</th>\n",
       "      <th>positions</th>\n",
       "    </tr>\n",
       "  </thead>\n",
       "  <tbody>\n",
       "    <tr>\n",
       "      <th>0</th>\n",
       "      <td>6</td>\n",
       "      <td>32548599</td>\n",
       "      <td>C</td>\n",
       "      <td>T</td>\n",
       "      <td>HTMCP-03-06-02001</td>\n",
       "      <td>SYNONYMOUS_CODING</td>\n",
       "      <td>LOW</td>\n",
       "      <td>HLA-DRB1</td>\n",
       "      <td>32548449</td>\n",
       "      <td>32548749</td>\n",
       "      <td>6:32548449-32548749</td>\n",
       "    </tr>\n",
       "    <tr>\n",
       "      <th>1</th>\n",
       "      <td>6</td>\n",
       "      <td>29910335</td>\n",
       "      <td>C</td>\n",
       "      <td>T</td>\n",
       "      <td>HTMCP-03-06-02002</td>\n",
       "      <td>NON_SYNONYMOUS_CODING</td>\n",
       "      <td>MODERATE</td>\n",
       "      <td>HLA-A</td>\n",
       "      <td>29910185</td>\n",
       "      <td>29910485</td>\n",
       "      <td>6:29910185-29910485</td>\n",
       "    </tr>\n",
       "  </tbody>\n",
       "</table>\n",
       "</div>"
      ],
      "text/plain": [
       "  chr       pos ref alt            patient                 impact impact_type  \\\n",
       "0   6  32548599   C   T  HTMCP-03-06-02001      SYNONYMOUS_CODING         LOW   \n",
       "1   6  29910335   C   T  HTMCP-03-06-02002  NON_SYNONYMOUS_CODING    MODERATE   \n",
       "\n",
       "       gene     start       end            positions  \n",
       "0  HLA-DRB1  32548449  32548749  6:32548449-32548749  \n",
       "1     HLA-A  29910185  29910485  6:29910185-29910485  "
      ]
     },
     "execution_count": 53,
     "metadata": {},
     "output_type": "execute_result"
    }
   ],
   "source": [
    "df.head(2)\n"
   ]
  },
  {
   "cell_type": "markdown",
   "metadata": {},
   "source": [
    "a few notes:\n",
    "* it is tricky to get the right igv screen shot. i need to manually adjust the igv window to roughly 900x700 pixels.\n",
    "\n",
    "* many parameter/options in igv batch file does not really work. for example: maxtrackheight, sort tec.\n",
    "\n",
    "* the height pixels for the screen shot changes depending on the read coverage, \n",
    "\n",
    "* i need to be very careful when cropping the images. cropping need to start from right and top. i may need to preprocess the images before feed to fastai imagelist.\n",
    "\n",
    "* remember some of those randomly generated negative images may be empty due to zero coverage, remove these before feeding to model"
   ]
  },
  {
   "cell_type": "markdown",
   "metadata": {},
   "source": [
    "### generate 2000 real variant igv screen shots"
   ]
  },
  {
   "cell_type": "code",
   "execution_count": 60,
   "metadata": {},
   "outputs": [],
   "source": [
    "def render_template(template_dir, out_file, template_file, positions, tdna_bam, trna_bam, ndna_bam):\n",
    "    jinja2_env = Environment(loader=FileSystemLoader([template_dir]),\n",
    "                             trim_blocks=True)\n",
    "    template = jinja2_env.get_template(template_file)\n",
    "    with open(out_file, 'w') as opf:\n",
    "        content = template.render(out_file=out_file,\n",
    "                                  tdna_bam=tdna_bam,\n",
    "                                  trna_bam=trna_bam,\n",
    "                                  ndna_bam=ndna_bam,\n",
    "                                  positions=positions)                                 \n",
    "        opf.write(content)\n",
    "#         print('templated {}'.format(sh_script))\n",
    "    return out_file"
   ]
  },
  {
   "cell_type": "code",
   "execution_count": 65,
   "metadata": {},
   "outputs": [],
   "source": [
    "template_dir = '/projects/trans_scratch/validations/workspace/szong/Cervical/notebook/temp_dir/'\n",
    "template_file = 'batch_file_template_20190913.txt'\n"
   ]
  },
  {
   "cell_type": "code",
   "execution_count": 66,
   "metadata": {},
   "outputs": [
    {
     "data": {
      "text/html": [
       "<div>\n",
       "<style scoped>\n",
       "    .dataframe tbody tr th:only-of-type {\n",
       "        vertical-align: middle;\n",
       "    }\n",
       "\n",
       "    .dataframe tbody tr th {\n",
       "        vertical-align: top;\n",
       "    }\n",
       "\n",
       "    .dataframe thead th {\n",
       "        text-align: right;\n",
       "    }\n",
       "</style>\n",
       "<table border=\"1\" class=\"dataframe\">\n",
       "  <thead>\n",
       "    <tr style=\"text-align: right;\">\n",
       "      <th></th>\n",
       "      <th>pos</th>\n",
       "    </tr>\n",
       "    <tr>\n",
       "      <th>patient</th>\n",
       "      <th></th>\n",
       "    </tr>\n",
       "  </thead>\n",
       "  <tbody>\n",
       "    <tr>\n",
       "      <th>HTMCP-03-06-02001</th>\n",
       "      <td>6:32548449-32548749</td>\n",
       "    </tr>\n",
       "    <tr>\n",
       "      <th>HTMCP-03-06-02002</th>\n",
       "      <td>6:29910185-29910485;6:31238747-31239047</td>\n",
       "    </tr>\n",
       "  </tbody>\n",
       "</table>\n",
       "</div>"
      ],
      "text/plain": [
       "                                                       pos\n",
       "patient                                                   \n",
       "HTMCP-03-06-02001                      6:32548449-32548749\n",
       "HTMCP-03-06-02002  6:29910185-29910485;6:31238747-31239047"
      ]
     },
     "execution_count": 66,
     "metadata": {},
     "output_type": "execute_result"
    }
   ],
   "source": [
    "df2 = df[['patient','positions']].groupby('patient').agg([';'.join]).reset_index()\n",
    "df2.columns = ['patient', 'pos']\n",
    "df2 = df2.set_index('patient')\n",
    "df2.head(2)"
   ]
  },
  {
   "cell_type": "code",
   "execution_count": 69,
   "metadata": {},
   "outputs": [
    {
     "data": {
      "text/plain": [
       "'/projects/trans_scratch/validations/workspace/szong/Cervical/notebook/temp_dir//HTMCP-03-06-02001_batch_file.txt'"
      ]
     },
     "execution_count": 69,
     "metadata": {},
     "output_type": "execute_result"
    },
    {
     "data": {
      "text/plain": [
       "'/projects/trans_scratch/validations/workspace/szong/Cervical/notebook/temp_dir//HTMCP-03-06-02002_batch_file.txt'"
      ]
     },
     "execution_count": 69,
     "metadata": {},
     "output_type": "execute_result"
    },
    {
     "data": {
      "text/plain": [
       "'/projects/trans_scratch/validations/workspace/szong/Cervical/notebook/temp_dir//HTMCP-03-06-02058_batch_file.txt'"
      ]
     },
     "execution_count": 69,
     "metadata": {},
     "output_type": "execute_result"
    },
    {
     "data": {
      "text/plain": [
       "'/projects/trans_scratch/validations/workspace/szong/Cervical/notebook/temp_dir//HTMCP-03-06-02063_batch_file.txt'"
      ]
     },
     "execution_count": 69,
     "metadata": {},
     "output_type": "execute_result"
    },
    {
     "data": {
      "text/plain": [
       "'/projects/trans_scratch/validations/workspace/szong/Cervical/notebook/temp_dir//HTMCP-03-06-02068_batch_file.txt'"
      ]
     },
     "execution_count": 69,
     "metadata": {},
     "output_type": "execute_result"
    },
    {
     "data": {
      "text/plain": [
       "'/projects/trans_scratch/validations/workspace/szong/Cervical/notebook/temp_dir//HTMCP-03-06-02071_batch_file.txt'"
      ]
     },
     "execution_count": 69,
     "metadata": {},
     "output_type": "execute_result"
    },
    {
     "data": {
      "text/plain": [
       "'/projects/trans_scratch/validations/workspace/szong/Cervical/notebook/temp_dir//HTMCP-03-06-02098_batch_file.txt'"
      ]
     },
     "execution_count": 69,
     "metadata": {},
     "output_type": "execute_result"
    },
    {
     "data": {
      "text/plain": [
       "'/projects/trans_scratch/validations/workspace/szong/Cervical/notebook/temp_dir//HTMCP-03-06-02125_batch_file.txt'"
      ]
     },
     "execution_count": 69,
     "metadata": {},
     "output_type": "execute_result"
    },
    {
     "data": {
      "text/plain": [
       "'/projects/trans_scratch/validations/workspace/szong/Cervical/notebook/temp_dir//HTMCP-03-06-02128_batch_file.txt'"
      ]
     },
     "execution_count": 69,
     "metadata": {},
     "output_type": "execute_result"
    },
    {
     "data": {
      "text/plain": [
       "'/projects/trans_scratch/validations/workspace/szong/Cervical/notebook/temp_dir//HTMCP-03-06-02156_batch_file.txt'"
      ]
     },
     "execution_count": 69,
     "metadata": {},
     "output_type": "execute_result"
    },
    {
     "data": {
      "text/plain": [
       "'/projects/trans_scratch/validations/workspace/szong/Cervical/notebook/temp_dir//HTMCP-03-06-02182_batch_file.txt'"
      ]
     },
     "execution_count": 69,
     "metadata": {},
     "output_type": "execute_result"
    },
    {
     "data": {
      "text/plain": [
       "'/projects/trans_scratch/validations/workspace/szong/Cervical/notebook/temp_dir//HTMCP-03-06-02195_batch_file.txt'"
      ]
     },
     "execution_count": 69,
     "metadata": {},
     "output_type": "execute_result"
    },
    {
     "data": {
      "text/plain": [
       "'/projects/trans_scratch/validations/workspace/szong/Cervical/notebook/temp_dir//HTMCP-03-06-02196_batch_file.txt'"
      ]
     },
     "execution_count": 69,
     "metadata": {},
     "output_type": "execute_result"
    },
    {
     "data": {
      "text/plain": [
       "'/projects/trans_scratch/validations/workspace/szong/Cervical/notebook/temp_dir//HTMCP-03-06-02204_batch_file.txt'"
      ]
     },
     "execution_count": 69,
     "metadata": {},
     "output_type": "execute_result"
    },
    {
     "data": {
      "text/plain": [
       "'/projects/trans_scratch/validations/workspace/szong/Cervical/notebook/temp_dir//HTMCP-03-06-02213_batch_file.txt'"
      ]
     },
     "execution_count": 69,
     "metadata": {},
     "output_type": "execute_result"
    },
    {
     "data": {
      "text/plain": [
       "'/projects/trans_scratch/validations/workspace/szong/Cervical/notebook/temp_dir//HTMCP-03-06-02214_batch_file.txt'"
      ]
     },
     "execution_count": 69,
     "metadata": {},
     "output_type": "execute_result"
    },
    {
     "data": {
      "text/plain": [
       "'/projects/trans_scratch/validations/workspace/szong/Cervical/notebook/temp_dir//HTMCP-03-06-02222_batch_file.txt'"
      ]
     },
     "execution_count": 69,
     "metadata": {},
     "output_type": "execute_result"
    },
    {
     "data": {
      "text/plain": [
       "'/projects/trans_scratch/validations/workspace/szong/Cervical/notebook/temp_dir//HTMCP-03-06-02260_batch_file.txt'"
      ]
     },
     "execution_count": 69,
     "metadata": {},
     "output_type": "execute_result"
    },
    {
     "data": {
      "text/plain": [
       "'/projects/trans_scratch/validations/workspace/szong/Cervical/notebook/temp_dir//HTMCP-03-06-02262_batch_file.txt'"
      ]
     },
     "execution_count": 69,
     "metadata": {},
     "output_type": "execute_result"
    },
    {
     "data": {
      "text/plain": [
       "'/projects/trans_scratch/validations/workspace/szong/Cervical/notebook/temp_dir//HTMCP-03-06-02264_batch_file.txt'"
      ]
     },
     "execution_count": 69,
     "metadata": {},
     "output_type": "execute_result"
    },
    {
     "data": {
      "text/plain": [
       "'/projects/trans_scratch/validations/workspace/szong/Cervical/notebook/temp_dir//HTMCP-03-06-02328_batch_file.txt'"
      ]
     },
     "execution_count": 69,
     "metadata": {},
     "output_type": "execute_result"
    },
    {
     "data": {
      "text/plain": [
       "'/projects/trans_scratch/validations/workspace/szong/Cervical/notebook/temp_dir//HTMCP-03-06-02340_batch_file.txt'"
      ]
     },
     "execution_count": 69,
     "metadata": {},
     "output_type": "execute_result"
    },
    {
     "data": {
      "text/plain": [
       "'/projects/trans_scratch/validations/workspace/szong/Cervical/notebook/temp_dir//HTMCP-03-06-02396_batch_file.txt'"
      ]
     },
     "execution_count": 69,
     "metadata": {},
     "output_type": "execute_result"
    },
    {
     "data": {
      "text/plain": [
       "'/projects/trans_scratch/validations/workspace/szong/Cervical/notebook/temp_dir//HTMCP-03-06-02435_batch_file.txt'"
      ]
     },
     "execution_count": 69,
     "metadata": {},
     "output_type": "execute_result"
    }
   ],
   "source": [
    "for ix, row in df2.iterrows():\n",
    "    pat = ix\n",
    "    poss = row['pos'].split(';')\n",
    "    t_dna = df1.loc[pat, 't_dna']\n",
    "    t_rna = df1.loc[pat, 't_rna']\n",
    "    n_dna = df1.loc[pat, 'n_dna']\n",
    "#     print(pat, poss, t_dna, t_rna, n_dna)\n",
    "    out_file = f'{template_dir}/{pat}_batch_file.txt'\n",
    "    render_template(template_dir, out_file, template_file, poss, t_dna, t_rna, n_dna)"
   ]
  },
  {
   "cell_type": "code",
   "execution_count": null,
   "metadata": {},
   "outputs": [],
   "source": []
  },
  {
   "cell_type": "code",
   "execution_count": 26,
   "metadata": {},
   "outputs": [
    {
     "data": {
      "text/plain": [
       "'/projects/trans_scratch/validations/workspace/szong/Cervical/notebook//batch_file.txt'"
      ]
     },
     "execution_count": 26,
     "metadata": {},
     "output_type": "execute_result"
    }
   ],
   "source": [
    "render_template(template_dir, out_file, template_file, positions)"
   ]
  },
  {
   "cell_type": "markdown",
   "metadata": {},
   "source": [
    "![szong@gphost08 notebook]$ igv -b /projects/trans_scratch/validations/workspace/szong/Cervical/notebook/batch_file.txt"
   ]
  },
  {
   "cell_type": "code",
   "execution_count": 3,
   "metadata": {},
   "outputs": [
    {
     "data": {
      "text/html": [
       "<div>\n",
       "<style scoped>\n",
       "    .dataframe tbody tr th:only-of-type {\n",
       "        vertical-align: middle;\n",
       "    }\n",
       "\n",
       "    .dataframe tbody tr th {\n",
       "        vertical-align: top;\n",
       "    }\n",
       "\n",
       "    .dataframe thead th {\n",
       "        text-align: right;\n",
       "    }\n",
       "</style>\n",
       "<table border=\"1\" class=\"dataframe\">\n",
       "  <thead>\n",
       "    <tr style=\"text-align: right;\">\n",
       "      <th></th>\n",
       "      <th>chr</th>\n",
       "      <th>start_x</th>\n",
       "      <th>end_x</th>\n",
       "      <th>is_real</th>\n",
       "      <th>comments</th>\n",
       "      <th>patients</th>\n",
       "      <th>num_strela_patients</th>\n",
       "      <th>gene</th>\n",
       "      <th>feature_of_interest</th>\n",
       "      <th>num_normal_patients</th>\n",
       "      <th>...</th>\n",
       "      <th>beta_mean_x</th>\n",
       "      <th>beta_mean_y</th>\n",
       "      <th>beta_mut_mean</th>\n",
       "      <th>beta_wt_mean</th>\n",
       "      <th>meth_bg_diff</th>\n",
       "      <th>meth_mutwt_diff</th>\n",
       "      <th>Tumour libs</th>\n",
       "      <th>Tumour bams</th>\n",
       "      <th>Normal libs</th>\n",
       "      <th>Normal bams</th>\n",
       "    </tr>\n",
       "  </thead>\n",
       "  <tbody>\n",
       "    <tr>\n",
       "      <th>0</th>\n",
       "      <td>6</td>\n",
       "      <td>142706206</td>\n",
       "      <td>142706207</td>\n",
       "      <td>yes</td>\n",
       "      <td>NaN</td>\n",
       "      <td>HTMCP-03-06-02058;HTMCP-03-06-02210;HTMCP-03-0...</td>\n",
       "      <td>4</td>\n",
       "      <td>GPR126</td>\n",
       "      <td>active_enhancer</td>\n",
       "      <td>0</td>\n",
       "      <td>...</td>\n",
       "      <td>0.727533</td>\n",
       "      <td>0.765304</td>\n",
       "      <td>0.83250</td>\n",
       "      <td>0.716387</td>\n",
       "      <td>0.025302</td>\n",
       "      <td>0.074965</td>\n",
       "      <td>A37261;A52339;A52340;A68234</td>\n",
       "      <td>/projects/analysis/analysis22/A37261/merge_bwa...</td>\n",
       "      <td>A37189;A54512;A54515;A66442</td>\n",
       "      <td>/projects/analysis/analysis22/A37189/merge_bwa...</td>\n",
       "    </tr>\n",
       "    <tr>\n",
       "      <th>1</th>\n",
       "      <td>6</td>\n",
       "      <td>142706209</td>\n",
       "      <td>142706210</td>\n",
       "      <td>yes</td>\n",
       "      <td>NaN</td>\n",
       "      <td>HTMCP-03-06-02058;HTMCP-03-06-02063;HTMCP-03-0...</td>\n",
       "      <td>8</td>\n",
       "      <td>GPR126</td>\n",
       "      <td>active_enhancer</td>\n",
       "      <td>0</td>\n",
       "      <td>...</td>\n",
       "      <td>0.727533</td>\n",
       "      <td>0.765304</td>\n",
       "      <td>0.71875</td>\n",
       "      <td>0.720551</td>\n",
       "      <td>0.025302</td>\n",
       "      <td>0.001252</td>\n",
       "      <td>A37261;A37266;A37275;A54376;A52336;A68244;A682...</td>\n",
       "      <td>/projects/analysis/analysis22/A37261/merge_bwa...</td>\n",
       "      <td>A37189;A37194;A37203;A54481;A54507;A66452;A664...</td>\n",
       "      <td>/projects/analysis/analysis22/A37189/merge_bwa...</td>\n",
       "    </tr>\n",
       "  </tbody>\n",
       "</table>\n",
       "<p>2 rows × 40 columns</p>\n",
       "</div>"
      ],
      "text/plain": [
       "   chr    start_x      end_x is_real comments  \\\n",
       "0    6  142706206  142706207     yes      NaN   \n",
       "1    6  142706209  142706210     yes      NaN   \n",
       "\n",
       "                                            patients  num_strela_patients  \\\n",
       "0  HTMCP-03-06-02058;HTMCP-03-06-02210;HTMCP-03-0...                    4   \n",
       "1  HTMCP-03-06-02058;HTMCP-03-06-02063;HTMCP-03-0...                    8   \n",
       "\n",
       "     gene feature_of_interest  num_normal_patients  ...  beta_mean_x  \\\n",
       "0  GPR126     active_enhancer                    0  ...     0.727533   \n",
       "1  GPR126     active_enhancer                    0  ...     0.727533   \n",
       "\n",
       "  beta_mean_y beta_mut_mean  beta_wt_mean  meth_bg_diff  meth_mutwt_diff  \\\n",
       "0    0.765304       0.83250      0.716387      0.025302         0.074965   \n",
       "1    0.765304       0.71875      0.720551      0.025302         0.001252   \n",
       "\n",
       "                                         Tumour libs  \\\n",
       "0                        A37261;A52339;A52340;A68234   \n",
       "1  A37261;A37266;A37275;A54376;A52336;A68244;A682...   \n",
       "\n",
       "                                         Tumour bams  \\\n",
       "0  /projects/analysis/analysis22/A37261/merge_bwa...   \n",
       "1  /projects/analysis/analysis22/A37261/merge_bwa...   \n",
       "\n",
       "                                         Normal libs  \\\n",
       "0                        A37189;A54512;A54515;A66442   \n",
       "1  A37189;A37194;A37203;A54481;A54507;A66452;A664...   \n",
       "\n",
       "                                         Normal bams  \n",
       "0  /projects/analysis/analysis22/A37189/merge_bwa...  \n",
       "1  /projects/analysis/analysis22/A37189/merge_bwa...  \n",
       "\n",
       "[2 rows x 40 columns]"
      ]
     },
     "execution_count": 3,
     "metadata": {},
     "output_type": "execute_result"
    },
    {
     "data": {
      "text/plain": [
       "(404, 40)"
      ]
     },
     "execution_count": 3,
     "metadata": {},
     "output_type": "execute_result"
    }
   ],
   "source": [
    "f = '/projects/trans_scratch/validations/workspace/szong/Cervical/hotspots/rainstorm/all_rainstorm_hotspots_reviewed_from_wei_20190403.csv'\n",
    "df = pd.read_csv(f, sep='\\t')\n",
    "df.head(2)\n",
    "df.shape"
   ]
  },
  {
   "cell_type": "code",
   "execution_count": 8,
   "metadata": {},
   "outputs": [
    {
     "data": {
      "text/plain": [
       "Index(['chr', 'start_x', 'end_x', 'is_real', 'comments', 'patients',\n",
       "       'num_strela_patients', 'gene', 'feature_of_interest',\n",
       "       'num_normal_patients', 'num_mutationseq_patient', 'Reference_Allele',\n",
       "       'Tumor_Seq_Allele2', 'start_y', 'end_y', 'chrom', 'x_pos',\n",
       "       'feature_colors', 'hiv_status', 'hivpos_count', 'hivneg_count', 'hist',\n",
       "       'Clade', 'A7_count', 'A9_count', 'overlap_centromere', 'in_gatk_pon',\n",
       "       'hiv_diff', 'clade_diff', 'clade_colors', 'beta_mean_x', 'beta_mean_y',\n",
       "       'beta_mut_mean', 'beta_wt_mean', 'meth_bg_diff', 'meth_mutwt_diff',\n",
       "       'Tumour libs', 'Tumour bams', 'Normal libs', 'Normal bams'],\n",
       "      dtype='object')"
      ]
     },
     "execution_count": 8,
     "metadata": {},
     "output_type": "execute_result"
    }
   ],
   "source": [
    "df.columns"
   ]
  },
  {
   "cell_type": "code",
   "execution_count": 10,
   "metadata": {},
   "outputs": [
    {
     "data": {
      "text/plain": [
       "'/projects/analysis/analysis22/A37261/merge_bwa-mem-0.7.6a/125nt/hg19a/A37261_4_lanes_dupsFlagged.bam;/projects/analysis/analysis22/A52339/merge_bwa-mem-0.7.6a/125nt/hg19a/A52339_4_lanes_dupsFlagged.bam;/projects/analysis/analysis22/A52340/merge_bwa-mem-0.7.6a/125nt/hg19a/A52340_4_lanes_dupsFlagged.bam;/projects/analysis/analysis27/A68234/merge18086_bwa-mem-0.7.6a-sb/150nt/hg19a/A68234_2_lanes_dupsFlagged.bam'"
      ]
     },
     "execution_count": 10,
     "metadata": {},
     "output_type": "execute_result"
    }
   ],
   "source": [
    "df['Tumour bams'][0]"
   ]
  },
  {
   "cell_type": "code",
   "execution_count": 13,
   "metadata": {},
   "outputs": [
    {
     "data": {
      "text/plain": [
       "(404, 4)"
      ]
     },
     "execution_count": 13,
     "metadata": {},
     "output_type": "execute_result"
    },
    {
     "data": {
      "text/html": [
       "<div>\n",
       "<style scoped>\n",
       "    .dataframe tbody tr th:only-of-type {\n",
       "        vertical-align: middle;\n",
       "    }\n",
       "\n",
       "    .dataframe tbody tr th {\n",
       "        vertical-align: top;\n",
       "    }\n",
       "\n",
       "    .dataframe thead th {\n",
       "        text-align: right;\n",
       "    }\n",
       "</style>\n",
       "<table border=\"1\" class=\"dataframe\">\n",
       "  <thead>\n",
       "    <tr style=\"text-align: right;\">\n",
       "      <th></th>\n",
       "      <th>chr</th>\n",
       "      <th>start_x</th>\n",
       "      <th>is_real</th>\n",
       "      <th>Tumour bams</th>\n",
       "    </tr>\n",
       "  </thead>\n",
       "  <tbody>\n",
       "    <tr>\n",
       "      <th>0</th>\n",
       "      <td>6</td>\n",
       "      <td>142706206</td>\n",
       "      <td>yes</td>\n",
       "      <td>/projects/analysis/analysis22/A37261/merge_bwa...</td>\n",
       "    </tr>\n",
       "    <tr>\n",
       "      <th>1</th>\n",
       "      <td>6</td>\n",
       "      <td>142706209</td>\n",
       "      <td>yes</td>\n",
       "      <td>/projects/analysis/analysis22/A37261/merge_bwa...</td>\n",
       "    </tr>\n",
       "  </tbody>\n",
       "</table>\n",
       "</div>"
      ],
      "text/plain": [
       "   chr    start_x is_real                                        Tumour bams\n",
       "0    6  142706206     yes  /projects/analysis/analysis22/A37261/merge_bwa...\n",
       "1    6  142706209     yes  /projects/analysis/analysis22/A37261/merge_bwa..."
      ]
     },
     "execution_count": 13,
     "metadata": {},
     "output_type": "execute_result"
    }
   ],
   "source": [
    "dfs = df[['chr', 'start_x', 'is_real', 'Tumour bams']]\n",
    "dfs.shape\n",
    "dfs.head(2)"
   ]
  },
  {
   "cell_type": "markdown",
   "metadata": {},
   "source": [
    "keep only first bams because Wei reviewed them"
   ]
  },
  {
   "cell_type": "code",
   "execution_count": 46,
   "metadata": {},
   "outputs": [
    {
     "data": {
      "text/plain": [
       "pandas.core.series.Series"
      ]
     },
     "execution_count": 46,
     "metadata": {},
     "output_type": "execute_result"
    },
    {
     "data": {
      "text/plain": [
       "0    /projects/analysis/analysis22/A37261/merge_bwa...\n",
       "1    /projects/analysis/analysis22/A37266/merge_bwa...\n",
       "2    /projects/analysis/analysis22/A37275/merge_bwa...\n",
       "dtype: object"
      ]
     },
     "execution_count": 46,
     "metadata": {},
     "output_type": "execute_result"
    },
    {
     "data": {
      "text/html": [
       "<div>\n",
       "<style scoped>\n",
       "    .dataframe tbody tr th:only-of-type {\n",
       "        vertical-align: middle;\n",
       "    }\n",
       "\n",
       "    .dataframe tbody tr th {\n",
       "        vertical-align: top;\n",
       "    }\n",
       "\n",
       "    .dataframe thead th {\n",
       "        text-align: right;\n",
       "    }\n",
       "</style>\n",
       "<table border=\"1\" class=\"dataframe\">\n",
       "  <thead>\n",
       "    <tr style=\"text-align: right;\">\n",
       "      <th></th>\n",
       "      <th>chr</th>\n",
       "      <th>start_x</th>\n",
       "      <th>is_real</th>\n",
       "      <th>bam</th>\n",
       "      <th>start</th>\n",
       "      <th>end</th>\n",
       "    </tr>\n",
       "  </thead>\n",
       "  <tbody>\n",
       "    <tr>\n",
       "      <th>0</th>\n",
       "      <td>6</td>\n",
       "      <td>142706206</td>\n",
       "      <td>yes</td>\n",
       "      <td>/projects/analysis/analysis22/A37261/merge_bwa...</td>\n",
       "      <td>142706106</td>\n",
       "      <td>142706306</td>\n",
       "    </tr>\n",
       "    <tr>\n",
       "      <th>0</th>\n",
       "      <td>6</td>\n",
       "      <td>142706206</td>\n",
       "      <td>yes</td>\n",
       "      <td>/projects/analysis/analysis22/A52339/merge_bwa...</td>\n",
       "      <td>142706106</td>\n",
       "      <td>142706306</td>\n",
       "    </tr>\n",
       "  </tbody>\n",
       "</table>\n",
       "</div>"
      ],
      "text/plain": [
       "  chr    start_x is_real                                                bam  \\\n",
       "0   6  142706206     yes  /projects/analysis/analysis22/A37261/merge_bwa...   \n",
       "0   6  142706206     yes  /projects/analysis/analysis22/A52339/merge_bwa...   \n",
       "\n",
       "       start        end  \n",
       "0  142706106  142706306  \n",
       "0  142706106  142706306  "
      ]
     },
     "execution_count": 46,
     "metadata": {},
     "output_type": "execute_result"
    }
   ],
   "source": [
    "s = df['Tumour bams'].str.split(';', expand=True).stack()\n",
    "# s\n",
    "type(s)\n",
    "# s.index\n",
    "s = s[s.index.get_level_values(1)<3]\n",
    "s[1]\n",
    "idx = s.index.get_level_values(0)\n",
    "dfn = dfs.loc[idx]\n",
    "dfn['bam'] = list(s)\n",
    "dfn.drop('Tumour bams', axis=1, inplace=True)\n",
    "dfn['start'] = dfn['start_x'] - 100\n",
    "dfn['end'] = dfn['start_x'] + 100\n",
    "dfn = dfn.astype(str)\n",
    "dfn.head(2)"
   ]
  },
  {
   "cell_type": "code",
   "execution_count": 92,
   "metadata": {},
   "outputs": [
    {
     "data": {
      "text/html": [
       "<div>\n",
       "<style scoped>\n",
       "    .dataframe tbody tr th:only-of-type {\n",
       "        vertical-align: middle;\n",
       "    }\n",
       "\n",
       "    .dataframe tbody tr th {\n",
       "        vertical-align: top;\n",
       "    }\n",
       "\n",
       "    .dataframe thead th {\n",
       "        text-align: right;\n",
       "    }\n",
       "</style>\n",
       "<table border=\"1\" class=\"dataframe\">\n",
       "  <thead>\n",
       "    <tr style=\"text-align: right;\">\n",
       "      <th></th>\n",
       "      <th>chr</th>\n",
       "      <th>start_x</th>\n",
       "      <th>is_real</th>\n",
       "      <th>bam</th>\n",
       "      <th>start</th>\n",
       "      <th>end</th>\n",
       "      <th>position</th>\n",
       "      <th>lib</th>\n",
       "      <th>fname</th>\n",
       "    </tr>\n",
       "  </thead>\n",
       "  <tbody>\n",
       "    <tr>\n",
       "      <th>0</th>\n",
       "      <td>6</td>\n",
       "      <td>142706206</td>\n",
       "      <td>yes</td>\n",
       "      <td>/projects/analysis/analysis22/A37261/merge_bwa...</td>\n",
       "      <td>142706106</td>\n",
       "      <td>142706306</td>\n",
       "      <td>6:142706106-142706306</td>\n",
       "      <td>A37261</td>\n",
       "      <td>A37261_6_142706106_142706306.png</td>\n",
       "    </tr>\n",
       "    <tr>\n",
       "      <th>0</th>\n",
       "      <td>6</td>\n",
       "      <td>142706206</td>\n",
       "      <td>yes</td>\n",
       "      <td>/projects/analysis/analysis22/A52339/merge_bwa...</td>\n",
       "      <td>142706106</td>\n",
       "      <td>142706306</td>\n",
       "      <td>6:142706106-142706306</td>\n",
       "      <td>A52339</td>\n",
       "      <td>A52339_6_142706106_142706306.png</td>\n",
       "    </tr>\n",
       "  </tbody>\n",
       "</table>\n",
       "</div>"
      ],
      "text/plain": [
       "  chr    start_x is_real                                                bam  \\\n",
       "0   6  142706206     yes  /projects/analysis/analysis22/A37261/merge_bwa...   \n",
       "0   6  142706206     yes  /projects/analysis/analysis22/A52339/merge_bwa...   \n",
       "\n",
       "       start        end               position     lib  \\\n",
       "0  142706106  142706306  6:142706106-142706306  A37261   \n",
       "0  142706106  142706306  6:142706106-142706306  A52339   \n",
       "\n",
       "                              fname  \n",
       "0  A37261_6_142706106_142706306.png  \n",
       "0  A52339_6_142706106_142706306.png  "
      ]
     },
     "execution_count": 92,
     "metadata": {},
     "output_type": "execute_result"
    }
   ],
   "source": [
    "dfn['position'] = dfn['chr'] + ':' + dfn['start'] + '-' + dfn['end']\n",
    "dfn['lib'] = dfn.bam.apply(lambda x: x.split('/')[4])\n",
    "dfn['fname'] = dfn['lib'] + '_' + dfn['chr'] + '_' + dfn['start'] + '_' + dfn['end'] + '.png'\n",
    "dfn.head(2)"
   ]
  },
  {
   "cell_type": "code",
   "execution_count": 93,
   "metadata": {},
   "outputs": [],
   "source": [
    "dff = dfn.groupby(['bam', 'is_real', 'lib'])['position', 'fname'].agg({'position':';'.join, 'fname': ';'.join}).reset_index()"
   ]
  },
  {
   "cell_type": "code",
   "execution_count": 94,
   "metadata": {},
   "outputs": [
    {
     "data": {
      "text/plain": [
       "(138, 5)"
      ]
     },
     "execution_count": 94,
     "metadata": {},
     "output_type": "execute_result"
    },
    {
     "data": {
      "text/html": [
       "<div>\n",
       "<style scoped>\n",
       "    .dataframe tbody tr th:only-of-type {\n",
       "        vertical-align: middle;\n",
       "    }\n",
       "\n",
       "    .dataframe tbody tr th {\n",
       "        vertical-align: top;\n",
       "    }\n",
       "\n",
       "    .dataframe thead th {\n",
       "        text-align: right;\n",
       "    }\n",
       "</style>\n",
       "<table border=\"1\" class=\"dataframe\">\n",
       "  <thead>\n",
       "    <tr style=\"text-align: right;\">\n",
       "      <th></th>\n",
       "      <th>bam</th>\n",
       "      <th>is_real</th>\n",
       "      <th>lib</th>\n",
       "      <th>position</th>\n",
       "      <th>fname</th>\n",
       "    </tr>\n",
       "  </thead>\n",
       "  <tbody>\n",
       "    <tr>\n",
       "      <th>0</th>\n",
       "      <td>/projects/analysis/analysis21/A52317/merge_bwa...</td>\n",
       "      <td>no</td>\n",
       "      <td>A52317</td>\n",
       "      <td>14:52218727-52218927;3:4498329-4498529;6:16253...</td>\n",
       "      <td>A52317_14_52218727_52218927.png;A52317_3_44983...</td>\n",
       "    </tr>\n",
       "    <tr>\n",
       "      <th>1</th>\n",
       "      <td>/projects/analysis/analysis21/A52318/merge_bwa...</td>\n",
       "      <td>no</td>\n",
       "      <td>A52318</td>\n",
       "      <td>7:142148579-142148779;1:5734753-5734953;6:1866...</td>\n",
       "      <td>A52318_7_142148579_142148779.png;A52318_1_5734...</td>\n",
       "    </tr>\n",
       "  </tbody>\n",
       "</table>\n",
       "</div>"
      ],
      "text/plain": [
       "                                                 bam is_real     lib  \\\n",
       "0  /projects/analysis/analysis21/A52317/merge_bwa...      no  A52317   \n",
       "1  /projects/analysis/analysis21/A52318/merge_bwa...      no  A52318   \n",
       "\n",
       "                                            position  \\\n",
       "0  14:52218727-52218927;3:4498329-4498529;6:16253...   \n",
       "1  7:142148579-142148779;1:5734753-5734953;6:1866...   \n",
       "\n",
       "                                               fname  \n",
       "0  A52317_14_52218727_52218927.png;A52317_3_44983...  \n",
       "1  A52318_7_142148579_142148779.png;A52318_1_5734...  "
      ]
     },
     "execution_count": 94,
     "metadata": {},
     "output_type": "execute_result"
    }
   ],
   "source": [
    "dff.shape\n",
    "dff.head(2)"
   ]
  },
  {
   "cell_type": "code",
   "execution_count": 95,
   "metadata": {},
   "outputs": [],
   "source": [
    "def render_template(template_dir, out_file, template_file, positions, bam, snapdir, snapnames):\n",
    "    jinja2_env = Environment(loader=FileSystemLoader([template_dir]),\n",
    "                             trim_blocks=True)\n",
    "\n",
    "    jinja2_env.filters['zip'] = zip\n",
    "    template = jinja2_env.get_template(template_file)\n",
    "    with open(out_file, 'w') as opf:\n",
    "        content = template.render(out_file=out_file,\n",
    "                                  bam=bam,\n",
    "                                  snapdir=snapdir,\n",
    "                                  snapnames=snapnames,\n",
    "                                  positions=positions)                                 \n",
    "        opf.write(content)\n",
    "#         print('templated {}'.format(sh_script))\n",
    "    return out_file"
   ]
  },
  {
   "cell_type": "code",
   "execution_count": 96,
   "metadata": {},
   "outputs": [
    {
     "data": {
      "text/html": [
       "<div>\n",
       "<style scoped>\n",
       "    .dataframe tbody tr th:only-of-type {\n",
       "        vertical-align: middle;\n",
       "    }\n",
       "\n",
       "    .dataframe tbody tr th {\n",
       "        vertical-align: top;\n",
       "    }\n",
       "\n",
       "    .dataframe thead th {\n",
       "        text-align: right;\n",
       "    }\n",
       "</style>\n",
       "<table border=\"1\" class=\"dataframe\">\n",
       "  <thead>\n",
       "    <tr style=\"text-align: right;\">\n",
       "      <th></th>\n",
       "      <th>bam</th>\n",
       "      <th>is_real</th>\n",
       "      <th>lib</th>\n",
       "      <th>position</th>\n",
       "      <th>fname</th>\n",
       "    </tr>\n",
       "  </thead>\n",
       "  <tbody>\n",
       "    <tr>\n",
       "      <th>0</th>\n",
       "      <td>/projects/analysis/analysis21/A52317/merge_bwa...</td>\n",
       "      <td>no</td>\n",
       "      <td>A52317</td>\n",
       "      <td>14:52218727-52218927;3:4498329-4498529;6:16253...</td>\n",
       "      <td>A52317_14_52218727_52218927.png;A52317_3_44983...</td>\n",
       "    </tr>\n",
       "    <tr>\n",
       "      <th>1</th>\n",
       "      <td>/projects/analysis/analysis21/A52318/merge_bwa...</td>\n",
       "      <td>no</td>\n",
       "      <td>A52318</td>\n",
       "      <td>7:142148579-142148779;1:5734753-5734953;6:1866...</td>\n",
       "      <td>A52318_7_142148579_142148779.png;A52318_1_5734...</td>\n",
       "    </tr>\n",
       "  </tbody>\n",
       "</table>\n",
       "</div>"
      ],
      "text/plain": [
       "                                                 bam is_real     lib  \\\n",
       "0  /projects/analysis/analysis21/A52317/merge_bwa...      no  A52317   \n",
       "1  /projects/analysis/analysis21/A52318/merge_bwa...      no  A52318   \n",
       "\n",
       "                                            position  \\\n",
       "0  14:52218727-52218927;3:4498329-4498529;6:16253...   \n",
       "1  7:142148579-142148779;1:5734753-5734953;6:1866...   \n",
       "\n",
       "                                               fname  \n",
       "0  A52317_14_52218727_52218927.png;A52317_3_44983...  \n",
       "1  A52318_7_142148579_142148779.png;A52318_1_5734...  "
      ]
     },
     "execution_count": 96,
     "metadata": {},
     "output_type": "execute_result"
    }
   ],
   "source": [
    "dff.head(2)"
   ]
  },
  {
   "cell_type": "code",
   "execution_count": 100,
   "metadata": {},
   "outputs": [
    {
     "name": "stdout",
     "output_type": "stream",
     "text": [
      "['14:52218727-52218927', '3:4498329-4498529', '6:162536489-162536689', '7:135804347-135804547', '7:142484146-142484346', '8:64641708-64641908', '8:79436265-79436465', '11:24623486-24623686', '11:117122055-117122255', '13:93048062-93048262', '13:114022180-114022380', '17:48163570-48163770', '18:1629361-1629561', '23:88461431-88461631']\n"
     ]
    },
    {
     "data": {
      "text/plain": [
       "'/projects/da_workspace/szspace/data/muts/no/A52317_batch_file.txt'"
      ]
     },
     "execution_count": 100,
     "metadata": {},
     "output_type": "execute_result"
    },
    {
     "name": "stdout",
     "output_type": "stream",
     "text": [
      "['7:142148579-142148779', '1:5734753-5734953', '6:18666938-18667138', '20:43392715-43392915']\n"
     ]
    },
    {
     "data": {
      "text/plain": [
       "'/projects/da_workspace/szspace/data/muts/no/A52318_batch_file.txt'"
      ]
     },
     "execution_count": 100,
     "metadata": {},
     "output_type": "execute_result"
    },
    {
     "name": "stdout",
     "output_type": "stream",
     "text": [
      "['1:153323062-153323262', '11:69312579-69312779', '12:86531989-86532189', '11:74208290-74208490', '1:231257801-231258001', '3:75741870-75742070', '3:195669693-195669893', '6:4895376-4895576', '12:40289998-40290198', '15:47371067-47371267', '17:48163570-48163770', '19:50974823-50975023', '20:14935455-14935655', '20:14935459-14935659']\n"
     ]
    },
    {
     "data": {
      "text/plain": [
       "'/projects/da_workspace/szspace/data/muts/no/A52319_batch_file.txt'"
      ]
     },
     "execution_count": 100,
     "metadata": {},
     "output_type": "execute_result"
    },
    {
     "name": "stdout",
     "output_type": "stream",
     "text": [
      "['7:122068427-122068627', '1:79568188-79568388', '2:153133050-153133250', '3:75741870-75742070', '11:48876996-48877196', '11:48877026-48877226', '11:56466176-56466376', '12:38023362-38023562', '12:115170786-115170986', '16:27724855-27725055', '16:33926641-33926841', '17:21886114-21886314', '18:14551952-14552152', '23:101814750-101814950']\n"
     ]
    },
    {
     "data": {
      "text/plain": [
       "'/projects/da_workspace/szspace/data/muts/no/A52320_batch_file.txt'"
      ]
     },
     "execution_count": 100,
     "metadata": {},
     "output_type": "execute_result"
    },
    {
     "name": "stdout",
     "output_type": "stream",
     "text": [
      "['1:5220152-5220352', '2:644458-644658', '1:154649994-154650194', '1:162421087-162421287', '4:101566800-101567000', '5:163807206-163807406', '7:62123004-62123204', '8:83464304-83464504', '9:8929593-8929793', '15:97366598-97366798', '23:30813887-30814087', '23:124793688-124793888']\n"
     ]
    },
    {
     "data": {
      "text/plain": [
       "'/projects/da_workspace/szspace/data/muts/no/A52323_batch_file.txt'"
      ]
     },
     "execution_count": 100,
     "metadata": {},
     "output_type": "execute_result"
    },
    {
     "name": "stdout",
     "output_type": "stream",
     "text": [
      "['1:198486045-198486245', '2:83569620-83569820', '2:125267734-125267934', '3:105342396-105342596', '7:79359642-79359842', '8:64641708-64641908', '8:142565199-142565399', '8:142565212-142565412']\n"
     ]
    },
    {
     "data": {
      "text/plain": [
       "'/projects/da_workspace/szspace/data/muts/no/A52327_batch_file.txt'"
      ]
     },
     "execution_count": 100,
     "metadata": {},
     "output_type": "execute_result"
    },
    {
     "name": "stdout",
     "output_type": "stream",
     "text": [
      "['1:72393840-72394040', '1:72393847-72394047', '2:153132992-153133192', '2:153133006-153133206', '2:153133050-153133250', '3:131288408-131288608', '6:170758978-170759178', '10:20255272-20255472', '11:51341123-51341323', '14:107184194-107184394', '19:30595867-30596067', '19:30595868-30596068', '20:57002239-57002439', '23:3914412-3914612']\n"
     ]
    },
    {
     "data": {
      "text/plain": [
       "'/projects/da_workspace/szspace/data/muts/no/A52328_batch_file.txt'"
      ]
     },
     "execution_count": 100,
     "metadata": {},
     "output_type": "execute_result"
    },
    {
     "name": "stdout",
     "output_type": "stream",
     "text": [
      "['17:39789950-39790150', '9:35182642-35182842', '21:35818339-35818539', '5:163807206-163807406', '6:68142720-68142920', '8:122213720-122213920', '8:122213721-122213921', '12:4994270-4994470']\n"
     ]
    },
    {
     "data": {
      "text/plain": [
       "'/projects/da_workspace/szspace/data/muts/no/A52333_batch_file.txt'"
      ]
     },
     "execution_count": 100,
     "metadata": {},
     "output_type": "execute_result"
    },
    {
     "name": "stdout",
     "output_type": "stream",
     "text": [
      "['9:35182642-35182842', '11:74208290-74208490', '3:8088070-8088270', '1:72393840-72394040', '1:72393847-72394047', '3:131288408-131288608', '5:163807206-163807406', '6:105858449-105858649', '6:105858461-105858661', '6:105858465-105858665', '8:40677903-40678103', '11:48894652-48894852', '19:50205342-50205542', '20:29420015-29420215', '20:29420019-29420219', '23:101814750-101814950', '23:126311004-126311204']\n"
     ]
    },
    {
     "data": {
      "text/plain": [
       "'/projects/da_workspace/szspace/data/muts/no/A52334_batch_file.txt'"
      ]
     },
     "execution_count": 100,
     "metadata": {},
     "output_type": "execute_result"
    },
    {
     "name": "stdout",
     "output_type": "stream",
     "text": [
      "['23:38587549-38587749', '3:16579478-16579678', '3:156917608-156917808', '5:23633559-23633759', '5:177729787-177729987', '5:177729792-177729992', '6:78846383-78846583', '12:4994270-4994470', '15:97366598-97366798', '18:1629361-1629561', '19:50205342-50205542']\n"
     ]
    },
    {
     "data": {
      "text/plain": [
       "'/projects/da_workspace/szspace/data/muts/no/A52336_batch_file.txt'"
      ]
     },
     "execution_count": 100,
     "metadata": {},
     "output_type": "execute_result"
    },
    {
     "name": "stdout",
     "output_type": "stream",
     "text": [
      "['7:83715819-83716019', '8:79436265-79436465', '10:13157376-13157576', '14:90254601-90254801', '16:33926641-33926841', '20:54855731-54855931', '23:3243783-3243983']\n"
     ]
    },
    {
     "data": {
      "text/plain": [
       "'/projects/da_workspace/szspace/data/muts/no/A52338_batch_file.txt'"
      ]
     },
     "execution_count": 100,
     "metadata": {},
     "output_type": "execute_result"
    },
    {
     "name": "stdout",
     "output_type": "stream",
     "text": [
      "['1:153323062-153323262', '5:1807116-1807316', '15:66100610-66100810', '1:5220152-5220352', '2:83569620-83569820', '2:133045704-133045904', '3:173804032-173804232', '4:89753388-89753588', '5:123834333-123834533', '6:102208527-102208727', '7:135804347-135804547', '8:77092526-77092726', '11:48686482-48686682', '18:63580638-63580838']\n"
     ]
    },
    {
     "data": {
      "text/plain": [
       "'/projects/da_workspace/szspace/data/muts/no/A37234_batch_file.txt'"
      ]
     },
     "execution_count": 100,
     "metadata": {},
     "output_type": "execute_result"
    },
    {
     "name": "stdout",
     "output_type": "stream",
     "text": [
      "['8:83993637-83993837']\n"
     ]
    },
    {
     "data": {
      "text/plain": [
       "'/projects/da_workspace/szspace/data/muts/yes/A37234_batch_file.txt'"
      ]
     },
     "execution_count": 100,
     "metadata": {},
     "output_type": "execute_result"
    },
    {
     "name": "stdout",
     "output_type": "stream",
     "text": [
      "['1:77653971-77654171', '1:230724526-230724726', '1:230724528-230724728', '3:190097933-190098133', '3:195671638-195671838', '8:43095448-43095648', '8:64641708-64641908', '8:122213867-122214067', '11:48686482-48686682']\n"
     ]
    },
    {
     "data": {
      "text/plain": [
       "'/projects/da_workspace/szspace/data/muts/no/A37235_batch_file.txt'"
      ]
     },
     "execution_count": 100,
     "metadata": {},
     "output_type": "execute_result"
    },
    {
     "name": "stdout",
     "output_type": "stream",
     "text": [
      "['2:9445464-9445664', '1:8404750-8404950', '1:110250250-110250450', '8:83464304-83464504', '8:113047796-113047996', '11:48686482-48686682']\n"
     ]
    },
    {
     "data": {
      "text/plain": [
       "'/projects/da_workspace/szspace/data/muts/no/A37236_batch_file.txt'"
      ]
     },
     "execution_count": 100,
     "metadata": {},
     "output_type": "execute_result"
    },
    {
     "name": "stdout",
     "output_type": "stream",
     "text": [
      "['23:2259659-2259859', '7:122068427-122068627', '2:89563879-89564079', '5:180062527-180062727', '6:108274678-108274878', '19:30595866-30596066', '19:30595867-30596067', '19:30595868-30596068']\n"
     ]
    },
    {
     "data": {
      "text/plain": [
       "'/projects/da_workspace/szspace/data/muts/no/A37239_batch_file.txt'"
      ]
     },
     "execution_count": 100,
     "metadata": {},
     "output_type": "execute_result"
    },
    {
     "name": "stdout",
     "output_type": "stream",
     "text": [
      "['8:43095596-43095796', '1:5730689-5730889', '3:30782426-30782626', '1:8404750-8404950', '1:20952454-20952654', '2:125267734-125267934', '5:138915476-138915676', '12:41126130-41126330', '23:115997836-115998036']\n"
     ]
    },
    {
     "data": {
      "text/plain": [
       "'/projects/da_workspace/szspace/data/muts/no/A37241_batch_file.txt'"
      ]
     },
     "execution_count": 100,
     "metadata": {},
     "output_type": "execute_result"
    },
    {
     "name": "stdout",
     "output_type": "stream",
     "text": [
      "['19:252850-253050', '5:18762478-18762678', '1:222311504-222311704', '5:23633435-23633635', '5:23633559-23633759', '5:28818487-28818687', '8:101988357-101988557', '12:89096321-89096521', '12:89096322-89096522', '13:69442624-69442824']\n"
     ]
    },
    {
     "data": {
      "text/plain": [
       "'/projects/da_workspace/szspace/data/muts/no/A37243_batch_file.txt'"
      ]
     },
     "execution_count": 100,
     "metadata": {},
     "output_type": "execute_result"
    },
    {
     "name": "stdout",
     "output_type": "stream",
     "text": [
      "['5:1295128-1295328']\n"
     ]
    },
    {
     "data": {
      "text/plain": [
       "'/projects/da_workspace/szspace/data/muts/yes/A37243_batch_file.txt'"
      ]
     },
     "execution_count": 100,
     "metadata": {},
     "output_type": "execute_result"
    },
    {
     "name": "stdout",
     "output_type": "stream",
     "text": [
      "['5:3323518-3323718', '1:97638783-97638983', '3:156917608-156917808', '4:101566839-101567039', '5:17900520-17900720', '12:38084006-38084206', '18:36772625-36772825', '19:57830615-57830815', '20:43392715-43392915']\n"
     ]
    },
    {
     "data": {
      "text/plain": [
       "'/projects/da_workspace/szspace/data/muts/no/A37244_batch_file.txt'"
      ]
     },
     "execution_count": 100,
     "metadata": {},
     "output_type": "execute_result"
    },
    {
     "name": "stdout",
     "output_type": "stream",
     "text": [
      "['3:183675358-183675558', '12:86531989-86532189', '4:139114770-139114970', '2:14240019-14240219', '1:8404750-8404950', '2:14240075-14240275', '2:194913532-194913732', '3:195671638-195671838', '6:3777229-3777429', '6:162536489-162536689', '9:69954658-69954858', '10:42531280-42531480', '12:115170786-115170986', '12:115170787-115170987', '23:101814750-101814950']\n"
     ]
    },
    {
     "data": {
      "text/plain": [
       "'/projects/da_workspace/szspace/data/muts/no/A37247_batch_file.txt'"
      ]
     },
     "execution_count": 100,
     "metadata": {},
     "output_type": "execute_result"
    },
    {
     "name": "stdout",
     "output_type": "stream",
     "text": [
      "['8:83993637-83993837']\n"
     ]
    },
    {
     "data": {
      "text/plain": [
       "'/projects/da_workspace/szspace/data/muts/yes/A37247_batch_file.txt'"
      ]
     },
     "execution_count": 100,
     "metadata": {},
     "output_type": "execute_result"
    },
    {
     "name": "stdout",
     "output_type": "stream",
     "text": [
      "['7:142148579-142148779', '8:43097079-43097279', '1:182255416-182255616', '3:173804032-173804232', '5:23633435-23633635', '5:105410610-105410810', '5:105410624-105410824', '7:101132997-101133197', '11:122696787-122696987', '12:38084006-38084206', '12:89096321-89096521', '12:89096322-89096522', '14:92653956-92654156', '16:74144718-74144918']\n"
     ]
    },
    {
     "data": {
      "text/plain": [
       "'/projects/da_workspace/szspace/data/muts/no/A37252_batch_file.txt'"
      ]
     },
     "execution_count": 100,
     "metadata": {},
     "output_type": "execute_result"
    },
    {
     "name": "stdout",
     "output_type": "stream",
     "text": [
      "['11:69312579-69312779', '23:2259659-2259859', '1:20952454-20952654', '1:182255416-182255616', '2:45814081-45814281', '2:89563855-89564055', '2:89563879-89564079', '3:96211136-96211336', '3:190097933-190098133', '3:195671638-195671838', '4:89753398-89753598', '4:189428438-189428638', '4:189428456-189428656', '6:72038929-72039129', '6:78846383-78846583', '8:43095448-43095648', '11:51341123-51341323', '12:89096322-89096522', '16:17137781-17137981', '19:50205342-50205542', '20:57002250-57002450', '23:65317350-65317550']\n"
     ]
    },
    {
     "data": {
      "text/plain": [
       "'/projects/da_workspace/szspace/data/muts/no/A37253_batch_file.txt'"
      ]
     },
     "execution_count": 100,
     "metadata": {},
     "output_type": "execute_result"
    },
    {
     "name": "stdout",
     "output_type": "stream",
     "text": [
      "['19:252850-253050', '5:110384-110584', '19:30595914-30596114', '19:30595915-30596115', '19:30595916-30596116', '1:182255416-182255616', '1:230724526-230724726', '1:230724528-230724728', '2:105595997-105596197', '3:195212480-195212680', '3:195670148-195670348', '3:195670211-195670411', '3:195670212-195670412', '5:28797074-28797274', '6:18666798-18666998', '9:131225903-131226103', '12:38002102-38002302', '13:42021775-42021975', '20:14935455-14935655', '20:14935459-14935659', '23:938689-938889', '23:140877781-140877981']\n"
     ]
    },
    {
     "data": {
      "text/plain": [
       "'/projects/da_workspace/szspace/data/muts/no/A37254_batch_file.txt'"
      ]
     },
     "execution_count": 100,
     "metadata": {},
     "output_type": "execute_result"
    },
    {
     "name": "stdout",
     "output_type": "stream",
     "text": [
      "['6:92890160-92890360']\n"
     ]
    },
    {
     "data": {
      "text/plain": [
       "'/projects/da_workspace/szspace/data/muts/yes/A37254_batch_file.txt'"
      ]
     },
     "execution_count": 100,
     "metadata": {},
     "output_type": "execute_result"
    },
    {
     "name": "stdout",
     "output_type": "stream",
     "text": [
      "['7:65824350-65824550', '5:3728150-3728350', '1:42789743-42789943', '2:45813946-45814146', '4:89753388-89753588', '4:89753398-89753598', '8:40677903-40678103', '12:29076405-29076605', '12:38084006-38084206', '14:90254601-90254801', '16:1004952-1005152']\n"
     ]
    },
    {
     "data": {
      "text/plain": [
       "'/projects/da_workspace/szspace/data/muts/no/A37255_batch_file.txt'"
      ]
     },
     "execution_count": 100,
     "metadata": {},
     "output_type": "execute_result"
    },
    {
     "name": "stdout",
     "output_type": "stream",
     "text": [
      "['8:43097079-43097279', '8:43097296-43097496', '1:97638783-97638983', '2:45814081-45814281', '7:142484146-142484346', '8:43095448-43095648', '8:43095452-43095652', '8:142565199-142565399', '8:142565212-142565412', '10:42531280-42531480', '10:42817674-42817874', '12:41126130-41126330', '19:57830615-57830815', '23:101814746-101814946']\n"
     ]
    },
    {
     "data": {
      "text/plain": [
       "'/projects/da_workspace/szspace/data/muts/no/A37257_batch_file.txt'"
      ]
     },
     "execution_count": 100,
     "metadata": {},
     "output_type": "execute_result"
    },
    {
     "name": "stdout",
     "output_type": "stream",
     "text": [
      "['7:142191939-142192139', '7:142191961-142192161', '5:108116383-108116583', '6:29873469-29873669', '6:72038929-72039129', '6:170758978-170759178', '7:83715819-83716019', '7:101132997-101133197', '12:89096321-89096521', '19:30595866-30596066', '19:30595867-30596067', '19:30595868-30596068', '23:30813887-30814087']\n"
     ]
    },
    {
     "data": {
      "text/plain": [
       "'/projects/da_workspace/szspace/data/muts/no/A37258_batch_file.txt'"
      ]
     },
     "execution_count": 100,
     "metadata": {},
     "output_type": "execute_result"
    },
    {
     "name": "stdout",
     "output_type": "stream",
     "text": [
      "['8:43097296-43097496', '1:169058825-169059025', '5:23633375-23633575', '8:101988357-101988557', '10:42817674-42817874', '11:24623486-24623686', '12:19941514-19941714', '12:41126130-41126330', '13:93048062-93048262', '19:57830615-57830815', '20:30964919-30965119']\n"
     ]
    },
    {
     "data": {
      "text/plain": [
       "'/projects/da_workspace/szspace/data/muts/no/A37259_batch_file.txt'"
      ]
     },
     "execution_count": 100,
     "metadata": {},
     "output_type": "execute_result"
    },
    {
     "name": "stdout",
     "output_type": "stream",
     "text": [
      "['8:43094038-43094238', '8:145992931-145993131', '11:74208290-74208490', '1:246363485-246363685', '19:30595914-30596114', '19:30595915-30596115', '19:30595916-30596116', '23:47927927-47928127', '1:230724528-230724728', '8:77092526-77092726', '10:42817674-42817874', '11:50690151-50690351', '11:50690154-50690354', '11:101083329-101083529', '11:101083330-101083530', '17:48163570-48163770', '17:52563328-52563528', '20:4477279-4477479', '23:88461431-88461631', '23:101814746-101814946', '23:115997836-115998036']\n"
     ]
    },
    {
     "data": {
      "text/plain": [
       "'/projects/da_workspace/szspace/data/muts/no/A37260_batch_file.txt'"
      ]
     },
     "execution_count": 100,
     "metadata": {},
     "output_type": "execute_result"
    },
    {
     "name": "stdout",
     "output_type": "stream",
     "text": [
      "['8:43097079-43097279', '1:18798906-18799106', '1:18798908-18799108', '9:4330613-4330813', '11:101083329-101083529', '11:101083330-101083530', '19:24599190-24599390', '23:932706-932906', '23:2065429-2065629']\n"
     ]
    },
    {
     "data": {
      "text/plain": [
       "'/projects/da_workspace/szspace/data/muts/no/A37261_batch_file.txt'"
      ]
     },
     "execution_count": 100,
     "metadata": {},
     "output_type": "execute_result"
    },
    {
     "name": "stdout",
     "output_type": "stream",
     "text": [
      "['6:142706106-142706306', '6:142706109-142706309']\n"
     ]
    },
    {
     "data": {
      "text/plain": [
       "'/projects/da_workspace/szspace/data/muts/yes/A37261_batch_file.txt'"
      ]
     },
     "execution_count": 100,
     "metadata": {},
     "output_type": "execute_result"
    },
    {
     "name": "stdout",
     "output_type": "stream",
     "text": [
      "['1:143241060-143241260', '1:222311504-222311704', '4:101566800-101567000', '4:101566839-101567039', '6:18666798-18666998', '10:13157341-13157541', '10:13157376-13157576', '13:69442624-69442824', '20:4477279-4477479', '23:938689-938889', '23:2065429-2065629']\n"
     ]
    },
    {
     "data": {
      "text/plain": [
       "'/projects/da_workspace/szspace/data/muts/no/A37263_batch_file.txt'"
      ]
     },
     "execution_count": 100,
     "metadata": {},
     "output_type": "execute_result"
    },
    {
     "name": "stdout",
     "output_type": "stream",
     "text": [
      "['8:43095596-43095796', '1:97638783-97638983', '1:166433127-166433327', '2:45813946-45814146', '2:153132992-153133192', '2:153133006-153133206', '2:243153290-243153490', '4:101566839-101567039', '5:28797074-28797274', '8:43095452-43095652', '11:48955944-48956144', '11:48955950-48956150', '12:38017942-38018142', '16:46481908-46482108', '23:101814746-101814946', '23:126311004-126311204']\n"
     ]
    },
    {
     "data": {
      "text/plain": [
       "'/projects/da_workspace/szspace/data/muts/no/A37266_batch_file.txt'"
      ]
     },
     "execution_count": 100,
     "metadata": {},
     "output_type": "execute_result"
    },
    {
     "name": "stdout",
     "output_type": "stream",
     "text": [
      "['6:142706109-142706309']\n"
     ]
    },
    {
     "data": {
      "text/plain": [
       "'/projects/da_workspace/szspace/data/muts/yes/A37266_batch_file.txt'"
      ]
     },
     "execution_count": 100,
     "metadata": {},
     "output_type": "execute_result"
    },
    {
     "name": "stdout",
     "output_type": "stream",
     "text": [
      "['12:54515180-54515380', '8:145992931-145993131', '1:246363485-246363685', '3:4498329-4498529', '5:3728150-3728350', '1:110250250-110250450', '2:52058116-52058316', '2:228067617-228067817', '3:77837254-77837454', '3:77837275-77837475', '10:13157341-13157541', '17:21886114-21886314', '20:29420015-29420215']\n"
     ]
    },
    {
     "data": {
      "text/plain": [
       "'/projects/da_workspace/szspace/data/muts/no/A37269_batch_file.txt'"
      ]
     },
     "execution_count": 100,
     "metadata": {},
     "output_type": "execute_result"
    },
    {
     "name": "stdout",
     "output_type": "stream",
     "text": [
      "['5:1807123-1807323', '3:182735421-182735621', '21:35818339-35818539', '5:110384-110584', '5:648910-649110', '5:138915476-138915676', '6:3777229-3777429', '6:3777246-3777446', '7:83715819-83716019', '10:42531255-42531455', '11:50690116-50690316', '12:38256388-38256588', '12:115170786-115170986', '12:115170787-115170987', '16:33505719-33505919', '20:41622110-41622310', '20:54855731-54855931', '20:59965502-59965702']\n"
     ]
    },
    {
     "data": {
      "text/plain": [
       "'/projects/da_workspace/szspace/data/muts/no/A37270_batch_file.txt'"
      ]
     },
     "execution_count": 100,
     "metadata": {},
     "output_type": "execute_result"
    },
    {
     "name": "stdout",
     "output_type": "stream",
     "text": [
      "['8:43095596-43095796', '4:25251023-25251223', '1:5220152-5220352', '5:3323518-3323718', '1:79568188-79568388', '2:117799623-117799823', '6:49865603-49865803', '7:62123004-62123204', '7:83019160-83019360', '8:34399713-34399913', '9:4330619-4330819', '16:74144718-74144918', '19:56581332-56581532']\n"
     ]
    },
    {
     "data": {
      "text/plain": [
       "'/projects/da_workspace/szspace/data/muts/no/A37272_batch_file.txt'"
      ]
     },
     "execution_count": 100,
     "metadata": {},
     "output_type": "execute_result"
    },
    {
     "name": "stdout",
     "output_type": "stream",
     "text": [
      "['8:43097296-43097496', '5:8079411-8079611', '5:23633559-23633759', '5:33849548-33849748', '8:110770940-110771140', '9:69954658-69954858', '11:48894652-48894852', '18:15364807-15365007', '23:82973050-82973250']\n"
     ]
    },
    {
     "data": {
      "text/plain": [
       "'/projects/da_workspace/szspace/data/muts/no/A37274_batch_file.txt'"
      ]
     },
     "execution_count": 100,
     "metadata": {},
     "output_type": "execute_result"
    },
    {
     "name": "stdout",
     "output_type": "stream",
     "text": [
      "['7:142148579-142148779', '10:134424793-134424993', '2:45813946-45814146', '3:197118277-197118477', '4:101566800-101567000', '8:83464304-83464504', '11:50721356-50721556', '13:69442624-69442824', '16:46481908-46482108', '18:15364807-15365007', '18:36772625-36772825', '19:43781507-43781707', '20:29420015-29420215', '20:29420019-29420219']\n"
     ]
    },
    {
     "data": {
      "text/plain": [
       "'/projects/da_workspace/szspace/data/muts/no/A37275_batch_file.txt'"
      ]
     },
     "execution_count": 100,
     "metadata": {},
     "output_type": "execute_result"
    },
    {
     "name": "stdout",
     "output_type": "stream",
     "text": [
      "['6:142706109-142706309']\n"
     ]
    },
    {
     "data": {
      "text/plain": [
       "'/projects/da_workspace/szspace/data/muts/yes/A37275_batch_file.txt'"
      ]
     },
     "execution_count": 100,
     "metadata": {},
     "output_type": "execute_result"
    },
    {
     "name": "stdout",
     "output_type": "stream",
     "text": [
      "['14:52218727-52218927', '2:14240019-14240219', '1:18799118-18799318', '1:18799120-18799320', '1:169058825-169059025', '3:77837254-77837454', '3:77837275-77837475', '3:195212480-195212680', '4:189428092-189428292', '6:4895376-4895576', '9:4330613-4330813', '9:69795474-69795674', '16:33505719-33505919', '23:115997836-115998036', '23:146644396-146644596']\n"
     ]
    },
    {
     "data": {
      "text/plain": [
       "'/projects/da_workspace/szspace/data/muts/no/A37276_batch_file.txt'"
      ]
     },
     "execution_count": 100,
     "metadata": {},
     "output_type": "execute_result"
    },
    {
     "name": "stdout",
     "output_type": "stream",
     "text": [
      "['1:230724526-230724726', '5:51907307-51907507', '6:29873469-29873669', '8:79436265-79436465', '11:50690109-50690309', '11:50690116-50690316', '11:50690151-50690351', '11:50690154-50690354', '14:90254601-90254801', '18:62212868-62213068', '18:62212870-62213070', '18:63580638-63580838', '19:56581332-56581532']\n"
     ]
    },
    {
     "data": {
      "text/plain": [
       "'/projects/da_workspace/szspace/data/muts/no/A37281_batch_file.txt'"
      ]
     },
     "execution_count": 100,
     "metadata": {},
     "output_type": "execute_result"
    },
    {
     "name": "stdout",
     "output_type": "stream",
     "text": [
      "['20:51820520-51820720', '2:89563790-89563990', '2:89563855-89564055', '2:89563879-89564079', '2:153132992-153133192', '2:153133006-153133206', '2:153133050-153133250', '4:101566887-101567087', '4:189428092-189428292', '5:28797074-28797274', '6:29873469-29873669', '12:38023362-38023562', '16:33926641-33926841', '18:63580638-63580838', '19:56581332-56581532', '20:43392715-43392915']\n"
     ]
    },
    {
     "data": {
      "text/plain": [
       "'/projects/da_workspace/szspace/data/muts/no/A37283_batch_file.txt'"
      ]
     },
     "execution_count": 100,
     "metadata": {},
     "output_type": "execute_result"
    },
    {
     "name": "stdout",
     "output_type": "stream",
     "text": [
      "['5:1807123-1807323', '9:33794532-33794732', '1:246363485-246363685', '2:45814081-45814281', '11:56466176-56466376', '18:36772625-36772825', '23:124793688-124793888']\n"
     ]
    },
    {
     "data": {
      "text/plain": [
       "'/projects/da_workspace/szspace/data/muts/no/A37284_batch_file.txt'"
      ]
     },
     "execution_count": 100,
     "metadata": {},
     "output_type": "execute_result"
    },
    {
     "name": "stdout",
     "output_type": "stream",
     "text": [
      "['3:8088070-8088270', '1:79568188-79568388', '1:169058825-169059025', '2:89563790-89563990', '2:243153290-243153490', '5:138915476-138915676', '16:33947413-33947613', '19:24599190-24599390', '19:40351770-40351970']\n"
     ]
    },
    {
     "data": {
      "text/plain": [
       "'/projects/da_workspace/szspace/data/muts/no/A37285_batch_file.txt'"
      ]
     },
     "execution_count": 100,
     "metadata": {},
     "output_type": "execute_result"
    },
    {
     "name": "stdout",
     "output_type": "stream",
     "text": [
      "['7:142191939-142192139', '7:142191961-142192161', '7:142191962-142192162', '3:182735421-182735621', '1:143241060-143241260', '5:17900520-17900720', '5:123834333-123834533', '16:74144718-74144918']\n"
     ]
    },
    {
     "data": {
      "text/plain": [
       "'/projects/da_workspace/szspace/data/muts/no/A38427_batch_file.txt'"
      ]
     },
     "execution_count": 100,
     "metadata": {},
     "output_type": "execute_result"
    },
    {
     "name": "stdout",
     "output_type": "stream",
     "text": [
      "['7:142191939-142192139', '7:142191961-142192161', '7:142191962-142192162', '9:33794532-33794732', '8:145992931-145993131', '2:10431728-10431928', '1:18799118-18799318', '1:18799120-18799320', '5:105410610-105410810', '7:135804347-135804547', '8:144474069-144474269', '10:20255272-20255472', '12:38017942-38018142', '18:27527215-27527415', '20:54855743-54855943']\n"
     ]
    },
    {
     "data": {
      "text/plain": [
       "'/projects/da_workspace/szspace/data/muts/no/A38430_batch_file.txt'"
      ]
     },
     "execution_count": 100,
     "metadata": {},
     "output_type": "execute_result"
    },
    {
     "name": "stdout",
     "output_type": "stream",
     "text": [
      "['8:134226174-134226374', '1:154649994-154650194', '13:114022179-114022379', '13:114022180-114022380', '18:14551952-14552152', '21:9937233-9937433', '23:938689-938889', '23:146644396-146644596']\n"
     ]
    },
    {
     "data": {
      "text/plain": [
       "'/projects/da_workspace/szspace/data/muts/no/A38431_batch_file.txt'"
      ]
     },
     "execution_count": 100,
     "metadata": {},
     "output_type": "execute_result"
    },
    {
     "name": "stdout",
     "output_type": "stream",
     "text": [
      "['5:18762478-18762678', '3:182735421-182735621', '8:43094038-43094238', '5:3728150-3728350', '2:83569620-83569820', '2:194913532-194913732', '3:96211136-96211336', '3:190097933-190098133', '3:195212480-195212680', '6:102208527-102208727', '15:47371067-47371267', '16:17137781-17137981', '16:46481908-46482108', '19:24599190-24599390', '23:2065429-2065629']\n"
     ]
    },
    {
     "data": {
      "text/plain": [
       "'/projects/da_workspace/szspace/data/muts/no/A38432_batch_file.txt'"
      ]
     },
     "execution_count": 100,
     "metadata": {},
     "output_type": "execute_result"
    },
    {
     "name": "stdout",
     "output_type": "stream",
     "text": [
      "['23:38587587-38587787', '23:38587589-38587789', '1:5730700-5730900', '2:10431728-10431928', '3:195669693-195669893', '5:23633375-23633575', '5:28818487-28818687', '6:72038929-72039129', '6:102208527-102208727', '8:122213721-122213921', '16:17137781-17137981']\n"
     ]
    },
    {
     "data": {
      "text/plain": [
       "'/projects/da_workspace/szspace/data/muts/no/A38435_batch_file.txt'"
      ]
     },
     "execution_count": 100,
     "metadata": {},
     "output_type": "execute_result"
    },
    {
     "name": "stdout",
     "output_type": "stream",
     "text": [
      "['18:19268312-19268512', '3:183675358-183675558', '7:65824350-65824550', '5:648910-649110', '2:14240075-14240275', '3:86129106-86129306', '3:178476272-178476472', '4:189428438-189428638', '4:189428456-189428656', '5:23633435-23633635', '8:43095452-43095652', '8:77092526-77092726', '9:4330613-4330813', '11:24623486-24623686', '11:48894708-48894908', '12:38002180-38002380', '12:38002181-38002381', '16:1004952-1005152', '19:8598511-8598711', '20:57002250-57002450', '20:59965502-59965702']\n"
     ]
    },
    {
     "data": {
      "text/plain": [
       "'/projects/da_workspace/szspace/data/muts/no/A38437_batch_file.txt'"
      ]
     },
     "execution_count": 100,
     "metadata": {},
     "output_type": "execute_result"
    },
    {
     "name": "stdout",
     "output_type": "stream",
     "text": [
      "['5:1295128-1295328']\n"
     ]
    },
    {
     "data": {
      "text/plain": [
       "'/projects/da_workspace/szspace/data/muts/yes/A38437_batch_file.txt'"
      ]
     },
     "execution_count": 100,
     "metadata": {},
     "output_type": "execute_result"
    },
    {
     "name": "stdout",
     "output_type": "stream",
     "text": [
      "['10:31446850-31447050', '1:231257801-231258001', '19:30595914-30596114', '19:30595915-30596115', '19:30595916-30596116', '1:18798906-18799106', '1:18798908-18799108', '2:47964783-47964983', '4:189428092-189428292', '4:189428438-189428638', '4:189428456-189428656', '5:51907307-51907507', '7:83019160-83019360', '8:101988357-101988557', '9:8929593-8929793', '11:88939433-88939633', '11:88939438-88939638', '12:38023362-38023562', '12:40289998-40290198', '13:114022179-114022379', '13:114022180-114022380', '15:97366598-97366798', '19:8598511-8598711', '20:41622110-41622310', '21:14397286-14397486', '23:140877781-140877981']\n"
     ]
    },
    {
     "data": {
      "text/plain": [
       "'/projects/da_workspace/szspace/data/muts/no/A38440_batch_file.txt'"
      ]
     },
     "execution_count": 100,
     "metadata": {},
     "output_type": "execute_result"
    },
    {
     "name": "stdout",
     "output_type": "stream",
     "text": [
      "['7:142191962-142192162', '15:66100610-66100810', '4:25251023-25251223', '1:143241060-143241260', '9:8929593-8929793', '9:133660660-133660860', '11:50721356-50721556', '20:30964919-30965119']\n"
     ]
    },
    {
     "data": {
      "text/plain": [
       "'/projects/da_workspace/szspace/data/muts/no/A38441_batch_file.txt'"
      ]
     },
     "execution_count": 100,
     "metadata": {},
     "output_type": "execute_result"
    },
    {
     "name": "stdout",
     "output_type": "stream",
     "text": [
      "['12:86531989-86532189', '2:644458-644658', '1:18799118-18799318', '1:18799120-18799320', '2:47964783-47964983', '2:47964814-47965014', '3:195669643-195669843', '3:195669693-195669893', '6:3777229-3777429', '6:3777246-3777446', '18:48333776-48333976', '18:48333778-48333978', '19:51314642-51314842', '20:54855743-54855943', '20:57002239-57002439', '20:57002250-57002450']\n"
     ]
    },
    {
     "data": {
      "text/plain": [
       "'/projects/da_workspace/szspace/data/muts/no/A38445_batch_file.txt'"
      ]
     },
     "execution_count": 100,
     "metadata": {},
     "output_type": "execute_result"
    },
    {
     "name": "stdout",
     "output_type": "stream",
     "text": [
      "['17:39789950-39790150', '2:9445464-9445664', '2:10431728-10431928', '3:16579478-16579678', '7:122068427-122068627', '2:89563855-89564055', '6:3777246-3777446', '6:46747109-46747309', '8:143066000-143066200', '11:122696787-122696987', '15:47371067-47371267', '23:3243783-3243983', '23:124793688-124793888']\n"
     ]
    },
    {
     "data": {
      "text/plain": [
       "'/projects/da_workspace/szspace/data/muts/no/A38446_batch_file.txt'"
      ]
     },
     "execution_count": 100,
     "metadata": {},
     "output_type": "execute_result"
    },
    {
     "name": "stdout",
     "output_type": "stream",
     "text": [
      "['2:125267734-125267934', '5:8079411-8079611', '6:105858449-105858649', '6:105858461-105858661', '6:105858465-105858665', '18:5171517-5171717', '19:30595866-30596066', '19:50974823-50975023', '21:9937233-9937433', '23:88461431-88461631']\n"
     ]
    },
    {
     "data": {
      "text/plain": [
       "'/projects/da_workspace/szspace/data/muts/no/A38447_batch_file.txt'"
      ]
     },
     "execution_count": 100,
     "metadata": {},
     "output_type": "execute_result"
    },
    {
     "name": "stdout",
     "output_type": "stream",
     "text": [
      "['8:83993637-83993837']\n"
     ]
    },
    {
     "data": {
      "text/plain": [
       "'/projects/da_workspace/szspace/data/muts/yes/A38447_batch_file.txt'"
      ]
     },
     "execution_count": 100,
     "metadata": {},
     "output_type": "execute_result"
    },
    {
     "name": "stdout",
     "output_type": "stream",
     "text": [
      "['5:648910-649110', '5:105410624-105410824', '5:177729787-177729987', '5:177729792-177729992', '6:46747109-46747309', '11:48877026-48877226', '11:51341123-51341323', '11:88939433-88939633', '11:88939438-88939638', '12:4994270-4994470', '16:27724855-27725055', '20:30964919-30965119', '20:54855743-54855943']\n"
     ]
    },
    {
     "data": {
      "text/plain": [
       "'/projects/da_workspace/szspace/data/muts/no/A52324_batch_file.txt'"
      ]
     },
     "execution_count": 100,
     "metadata": {},
     "output_type": "execute_result"
    },
    {
     "name": "stdout",
     "output_type": "stream",
     "text": [
      "['3:30782426-30782626', '1:18798906-18799106', '1:18798908-18799108', '1:72393840-72394040', '1:72393847-72394047', '3:75741870-75742070', '5:180062527-180062727', '6:105858449-105858649', '6:105858461-105858661', '6:105858465-105858665', '6:121126342-121126542', '8:143066000-143066200', '9:33612231-33612431', '10:66313420-66313620', '15:65967661-65967861', '15:65967662-65967862', '19:40351770-40351970', '23:932706-932906']\n"
     ]
    },
    {
     "data": {
      "text/plain": [
       "'/projects/da_workspace/szspace/data/muts/no/A52325_batch_file.txt'"
      ]
     },
     "execution_count": 100,
     "metadata": {},
     "output_type": "execute_result"
    },
    {
     "name": "stdout",
     "output_type": "stream",
     "text": [
      "['5:1295150-1295350']\n"
     ]
    },
    {
     "data": {
      "text/plain": [
       "'/projects/da_workspace/szspace/data/muts/yes/A52325_batch_file.txt'"
      ]
     },
     "execution_count": 100,
     "metadata": {},
     "output_type": "execute_result"
    },
    {
     "name": "stdout",
     "output_type": "stream",
     "text": [
      "['7:142461489-142461689', '9:132200871-132201071', '4:25251023-25251223', '3:103103361-103103561', '5:117618494-117618694', '10:20255272-20255472', '12:38002181-38002381', '12:40289998-40290198', '19:40351770-40351970', '23:65317350-65317550']\n"
     ]
    },
    {
     "data": {
      "text/plain": [
       "'/projects/da_workspace/szspace/data/muts/no/A52339_batch_file.txt'"
      ]
     },
     "execution_count": 100,
     "metadata": {},
     "output_type": "execute_result"
    },
    {
     "name": "stdout",
     "output_type": "stream",
     "text": [
      "['6:142706106-142706306']\n"
     ]
    },
    {
     "data": {
      "text/plain": [
       "'/projects/da_workspace/szspace/data/muts/yes/A52339_batch_file.txt'"
      ]
     },
     "execution_count": 100,
     "metadata": {},
     "output_type": "execute_result"
    },
    {
     "name": "stdout",
     "output_type": "stream",
     "text": [
      "['1:16840650-16840850', '12:54515180-54515380', '2:89563790-89563990', '3:178476272-178476472', '18:62212868-62213068', '18:62212870-62213070', '23:3914412-3914612']\n"
     ]
    },
    {
     "data": {
      "text/plain": [
       "'/projects/da_workspace/szspace/data/muts/no/A52340_batch_file.txt'"
      ]
     },
     "execution_count": 100,
     "metadata": {},
     "output_type": "execute_result"
    },
    {
     "name": "stdout",
     "output_type": "stream",
     "text": [
      "['6:142706106-142706306']\n"
     ]
    },
    {
     "data": {
      "text/plain": [
       "'/projects/da_workspace/szspace/data/muts/yes/A52340_batch_file.txt'"
      ]
     },
     "execution_count": 100,
     "metadata": {},
     "output_type": "execute_result"
    },
    {
     "name": "stdout",
     "output_type": "stream",
     "text": [
      "['3:77372014-77372214', '3:195228179-195228379', '4:131425135-131425335', '5:123834333-123834533', '6:108274678-108274878', '8:113047796-113047996', '9:33612231-33612431']\n"
     ]
    },
    {
     "data": {
      "text/plain": [
       "'/projects/da_workspace/szspace/data/muts/no/A52341_batch_file.txt'"
      ]
     },
     "execution_count": 100,
     "metadata": {},
     "output_type": "execute_result"
    },
    {
     "name": "stdout",
     "output_type": "stream",
     "text": [
      "['20:51820520-51820720', '23:38587587-38587787', '23:38587589-38587789', '23:38587619-38587819', '2:14240019-14240219', '2:14240075-14240275', '2:133044752-133044952', '2:228067673-228067873', '4:89753388-89753588', '4:101566887-101567087', '6:170410401-170410601', '9:69795474-69795674', '23:932706-932906']\n"
     ]
    },
    {
     "data": {
      "text/plain": [
       "'/projects/da_workspace/szspace/data/muts/no/A54376_batch_file.txt'"
      ]
     },
     "execution_count": 100,
     "metadata": {},
     "output_type": "execute_result"
    },
    {
     "name": "stdout",
     "output_type": "stream",
     "text": [
      "['5:1295150-1295350']\n"
     ]
    },
    {
     "data": {
      "text/plain": [
       "'/projects/da_workspace/szspace/data/muts/yes/A54376_batch_file.txt'"
      ]
     },
     "execution_count": 100,
     "metadata": {},
     "output_type": "execute_result"
    },
    {
     "name": "stdout",
     "output_type": "stream",
     "text": [
      "['3:16579478-16579678', '5:110384-110584', '2:133044752-133044952', '3:173804032-173804232', '6:68142720-68142920', '9:69954658-69954858', '10:66313420-66313620', '11:48876996-48877196', '11:50690109-50690309', '11:50690151-50690351', '11:50690154-50690354', '12:115170787-115170987']\n"
     ]
    },
    {
     "data": {
      "text/plain": [
       "'/projects/da_workspace/szspace/data/muts/no/A54377_batch_file.txt'"
      ]
     },
     "execution_count": 100,
     "metadata": {},
     "output_type": "execute_result"
    },
    {
     "name": "stdout",
     "output_type": "stream",
     "text": [
      "['5:1807116-1807316', '2:52058116-52058316', '2:117799623-117799823', '5:8079411-8079611', '5:177729787-177729987', '6:170758978-170759178', '8:122213720-122213920', '8:122213721-122213921', '10:125590-125790', '11:50690109-50690309', '17:52563328-52563528', '18:48333776-48333976', '18:48333778-48333978', '23:3914412-3914612']\n"
     ]
    },
    {
     "data": {
      "text/plain": [
       "'/projects/da_workspace/szspace/data/muts/no/A54378_batch_file.txt'"
      ]
     },
     "execution_count": 100,
     "metadata": {},
     "output_type": "execute_result"
    },
    {
     "name": "stdout",
     "output_type": "stream",
     "text": [
      "['18:19268312-19268512', '3:195443877-195444077', '9:33794532-33794732', '2:644458-644658', '1:162421087-162421287', '2:168207331-168207531', '3:105342396-105342596', '6:49865603-49865803', '6:68142720-68142920', '7:79359642-79359842', '19:43781507-43781707', '23:146644396-146644596']\n"
     ]
    },
    {
     "data": {
      "text/plain": [
       "'/projects/da_workspace/szspace/data/muts/no/A54379_batch_file.txt'"
      ]
     },
     "execution_count": 100,
     "metadata": {},
     "output_type": "execute_result"
    },
    {
     "name": "stdout",
     "output_type": "stream",
     "text": [
      "['5:18762478-18762678', '7:158708205-158708405', '3:195669643-195669843', '4:101566887-101567087', '4:131425135-131425335', '5:105410610-105410810', '11:48877026-48877226', '20:14935455-14935655', '20:14935459-14935659']\n"
     ]
    },
    {
     "data": {
      "text/plain": [
       "'/projects/da_workspace/szspace/data/muts/no/A54381_batch_file.txt'"
      ]
     },
     "execution_count": 100,
     "metadata": {},
     "output_type": "execute_result"
    },
    {
     "name": "stdout",
     "output_type": "stream",
     "text": [
      "['10:31446850-31447050', '8:43094038-43094238', '1:110250250-110250450', '1:222311504-222311704', '2:47964783-47964983', '2:47964814-47965014', '5:177729792-177729992', '6:4895376-4895576', '6:108274678-108274878', '6:121126342-121126542', '9:66819129-66819329', '10:66313420-66313620', '18:15364807-15365007']\n"
     ]
    },
    {
     "data": {
      "text/plain": [
       "'/projects/da_workspace/szspace/data/muts/no/A54385_batch_file.txt'"
      ]
     },
     "execution_count": 100,
     "metadata": {},
     "output_type": "execute_result"
    },
    {
     "name": "stdout",
     "output_type": "stream",
     "text": [
      "['6:49865603-49865803', '8:122213720-122213920', '10:13157341-13157541', '10:13157376-13157576', '12:38002102-38002302', '12:38002104-38002304', '23:3243783-3243983']\n"
     ]
    },
    {
     "data": {
      "text/plain": [
       "'/projects/da_workspace/szspace/data/muts/no/A54387_batch_file.txt'"
      ]
     },
     "execution_count": 100,
     "metadata": {},
     "output_type": "execute_result"
    },
    {
     "name": "stdout",
     "output_type": "stream",
     "text": [
      "['5:1807123-1807323', '9:132200871-132201071', '9:132200873-132201073', '1:42789743-42789943', '1:166433127-166433327', '5:105410624-105410824', '7:79359642-79359842', '9:4330619-4330819', '16:27724855-27725055']\n"
     ]
    },
    {
     "data": {
      "text/plain": [
       "'/projects/da_workspace/szspace/data/muts/no/A54388_batch_file.txt'"
      ]
     },
     "execution_count": 100,
     "metadata": {},
     "output_type": "execute_result"
    },
    {
     "name": "stdout",
     "output_type": "stream",
     "text": [
      "['3:195443877-195444077', '2:11872961-11873161', '1:5730689-5730889', '3:30782426-30782626', '2:47964814-47965014', '4:131425135-131425335', '5:33849548-33849748', '11:50721356-50721556', '23:30813887-30814087', '23:65317350-65317550']\n"
     ]
    },
    {
     "data": {
      "text/plain": [
       "'/projects/da_workspace/szspace/data/muts/no/A57093_batch_file.txt'"
      ]
     },
     "execution_count": 100,
     "metadata": {},
     "output_type": "execute_result"
    },
    {
     "name": "stdout",
     "output_type": "stream",
     "text": [
      "['19:252850-253050', '1:198486045-198486245', '2:168207331-168207531', '6:46747109-46747309', '6:121126342-121126542', '8:34399713-34399913', '8:110770940-110771140', '8:142565199-142565399', '8:142565212-142565412', '9:131225903-131226103', '13:42021775-42021975', '13:108695243-108695443', '18:1629361-1629561']\n"
     ]
    },
    {
     "data": {
      "text/plain": [
       "'/projects/da_workspace/szspace/data/muts/no/A57094_batch_file.txt'"
      ]
     },
     "execution_count": 100,
     "metadata": {},
     "output_type": "execute_result"
    },
    {
     "name": "stdout",
     "output_type": "stream",
     "text": [
      "['3:183675358-183675558', '6:78846383-78846583', '11:48955944-48956144', '11:48955950-48956150', '11:50690116-50690316', '11:56466176-56466376', '19:52359100-52359300']\n"
     ]
    },
    {
     "data": {
      "text/plain": [
       "'/projects/da_workspace/szspace/data/muts/no/A57084_batch_file.txt'"
      ]
     },
     "execution_count": 100,
     "metadata": {},
     "output_type": "execute_result"
    },
    {
     "name": "stdout",
     "output_type": "stream",
     "text": [
      "['2:11872961-11873161', '1:5730689-5730889', '1:5730700-5730900', '1:77653971-77654171', '1:204565110-204565310', '3:103103361-103103561', '17:21886114-21886314']\n"
     ]
    },
    {
     "data": {
      "text/plain": [
       "'/projects/da_workspace/szspace/data/muts/no/A57085_batch_file.txt'"
      ]
     },
     "execution_count": 100,
     "metadata": {},
     "output_type": "execute_result"
    },
    {
     "name": "stdout",
     "output_type": "stream",
     "text": [
      "['9:73254517-73254717', '5:108116383-108116583', '5:117618494-117618694', '10:125590-125790']\n"
     ]
    },
    {
     "data": {
      "text/plain": [
       "'/projects/da_workspace/szspace/data/muts/no/A57086_batch_file.txt'"
      ]
     },
     "execution_count": 100,
     "metadata": {},
     "output_type": "execute_result"
    },
    {
     "name": "stdout",
     "output_type": "stream",
     "text": [
      "['14:52218727-52218927', '4:139114770-139114970', '23:38587549-38587749', '23:38587561-38587761', '23:38587587-38587787', '23:38587589-38587789', '23:38587619-38587819', '1:198486045-198486245', '1:204565110-204565310', '11:88939433-88939633', '11:88939438-88939638', '15:65967661-65967861', '15:65967662-65967862', '20:29420019-29420219']\n"
     ]
    },
    {
     "data": {
      "text/plain": [
       "'/projects/da_workspace/szspace/data/muts/no/A57088_batch_file.txt'"
      ]
     },
     "execution_count": 100,
     "metadata": {},
     "output_type": "execute_result"
    },
    {
     "name": "stdout",
     "output_type": "stream",
     "text": [
      "['7:142461489-142461689', '3:4498329-4498529', '1:30138586-30138786', '2:117799623-117799823', '2:168207331-168207531', '3:96211136-96211336', '18:62212868-62213068', '18:62212870-62213070', '20:57002239-57002439']\n"
     ]
    },
    {
     "data": {
      "text/plain": [
       "'/projects/da_workspace/szspace/data/muts/no/A57089_batch_file.txt'"
      ]
     },
     "execution_count": 100,
     "metadata": {},
     "output_type": "execute_result"
    },
    {
     "name": "stdout",
     "output_type": "stream",
     "text": [
      "['5:1295128-1295328']\n"
     ]
    },
    {
     "data": {
      "text/plain": [
       "'/projects/da_workspace/szspace/data/muts/yes/A57089_batch_file.txt'"
      ]
     },
     "execution_count": 100,
     "metadata": {},
     "output_type": "execute_result"
    },
    {
     "name": "stdout",
     "output_type": "stream",
     "text": [
      "['9:132200871-132201071', '9:132200873-132201073', '23:2259659-2259859', '1:77653971-77654171', '2:133044752-133044952', '5:23633375-23633575', '15:65967661-65967861', '15:65967662-65967862', '16:33920599-33920799', '18:76725145-76725345', '20:41622110-41622310']\n"
     ]
    },
    {
     "data": {
      "text/plain": [
       "'/projects/da_workspace/szspace/data/muts/no/A57091_batch_file.txt'"
      ]
     },
     "execution_count": 100,
     "metadata": {},
     "output_type": "execute_result"
    },
    {
     "name": "stdout",
     "output_type": "stream",
     "text": [
      "['6:162536489-162536689', '9:66819129-66819329', '19:52359100-52359300']\n"
     ]
    },
    {
     "data": {
      "text/plain": [
       "'/projects/da_workspace/szspace/data/muts/no/A57092_batch_file.txt'"
      ]
     },
     "execution_count": 100,
     "metadata": {},
     "output_type": "execute_result"
    },
    {
     "name": "stdout",
     "output_type": "stream",
     "text": [
      "['21:35818339-35818539', '5:3323518-3323718', '6:18666798-18666998', '19:8598511-8598711']\n"
     ]
    },
    {
     "data": {
      "text/plain": [
       "'/projects/da_workspace/szspace/data/muts/no/A57095_batch_file.txt'"
      ]
     },
     "execution_count": 100,
     "metadata": {},
     "output_type": "execute_result"
    },
    {
     "name": "stdout",
     "output_type": "stream",
     "text": [
      "['1:30138586-30138786', '1:166433127-166433327', '8:40677903-40678103', '11:101083329-101083529', '11:101083330-101083530', '20:29623000-29623200']\n"
     ]
    },
    {
     "data": {
      "text/plain": [
       "'/projects/da_workspace/szspace/data/muts/no/A57096_batch_file.txt'"
      ]
     },
     "execution_count": 100,
     "metadata": {},
     "output_type": "execute_result"
    },
    {
     "name": "stdout",
     "output_type": "stream",
     "text": [
      "['1:5734753-5734953', '1:174033680-174033880', '1:174033700-174033900', '2:243153290-243153490', '3:197118277-197118477', '10:125590-125790', '12:29076405-29076605', '12:31073227-31073427', '13:42021775-42021975', '16:33920599-33920799', '20:4477279-4477479']\n"
     ]
    },
    {
     "data": {
      "text/plain": [
       "'/projects/da_workspace/szspace/data/muts/no/A57097_batch_file.txt'"
      ]
     },
     "execution_count": 100,
     "metadata": {},
     "output_type": "execute_result"
    },
    {
     "name": "stdout",
     "output_type": "stream",
     "text": [
      "['5:1807116-1807316', '15:66100610-66100810', '2:105595997-105596197', '3:156917608-156917808', '5:28818487-28818687', '7:62123004-62123204', '11:117122055-117122255', '13:108695243-108695443', '19:43781507-43781707', '23:82973050-82973250']\n"
     ]
    },
    {
     "data": {
      "text/plain": [
       "'/projects/da_workspace/szspace/data/muts/no/A60755-A37282_batch_file.txt'"
      ]
     },
     "execution_count": 100,
     "metadata": {},
     "output_type": "execute_result"
    },
    {
     "name": "stdout",
     "output_type": "stream",
     "text": [
      "['4:139114770-139114970', '10:121481906-121482106', '3:105342396-105342596', '8:143066000-143066200', '11:50748283-50748483', '18:48333776-48333976', '18:48333778-48333978', '19:17525895-17526095', '19:17525896-17526096']\n"
     ]
    },
    {
     "data": {
      "text/plain": [
       "'/projects/da_workspace/szspace/data/muts/no/A62911_batch_file.txt'"
      ]
     },
     "execution_count": 100,
     "metadata": {},
     "output_type": "execute_result"
    },
    {
     "name": "stdout",
     "output_type": "stream",
     "text": [
      "['18:19268312-19268512', '3:195443877-195444077', '1:5730700-5730900', '1:162421087-162421287', '5:177945421-177945621', '6:18666938-18667138', '7:64037868-64038068', '8:110770940-110771140', '11:122696787-122696987', '17:56194713-56194913', '19:17525895-17526095', '19:17525896-17526096', '23:82973050-82973250']\n"
     ]
    },
    {
     "data": {
      "text/plain": [
       "'/projects/da_workspace/szspace/data/muts/no/A62912_batch_file.txt'"
      ]
     },
     "execution_count": 100,
     "metadata": {},
     "output_type": "execute_result"
    },
    {
     "name": "stdout",
     "output_type": "stream",
     "text": [
      "['10:31446850-31447050', '23:38587561-38587761', '1:42789743-42789943', '1:174033680-174033880', '1:204565110-204565310', '3:136359607-136359807', '3:195228179-195228379', '5:51907307-51907507', '6:162076031-162076231', '11:48876996-48877196', '12:31073227-31073427', '18:14551952-14552152', '21:14397286-14397486']\n"
     ]
    },
    {
     "data": {
      "text/plain": [
       "'/projects/da_workspace/szspace/data/muts/no/A68231_batch_file.txt'"
      ]
     },
     "execution_count": 100,
     "metadata": {},
     "output_type": "execute_result"
    },
    {
     "name": "stdout",
     "output_type": "stream",
     "text": [
      "['3:48103046-48103246', '2:52058116-52058316', '3:195670148-195670348', '5:32855932-32856132', '5:70821696-70821896', '6:166702189-166702389', '12:19941514-19941714', '20:61823999-61824199', '21:14397286-14397486']\n"
     ]
    },
    {
     "data": {
      "text/plain": [
       "'/projects/da_workspace/szspace/data/muts/no/A68232_batch_file.txt'"
      ]
     },
     "execution_count": 100,
     "metadata": {},
     "output_type": "execute_result"
    },
    {
     "name": "stdout",
     "output_type": "stream",
     "text": [
      "['1:52270193-52270393', '1:174033680-174033880', '1:174033700-174033900', '5:70821700-70821900', '6:166702189-166702389', '6:170410401-170410601', '10:42531255-42531455', '10:42531280-42531480', '11:3418442-3418642', '11:50748283-50748483', '12:19941514-19941714', '12:38002180-38002380', '12:38002181-38002381', '13:108695243-108695443']\n"
     ]
    },
    {
     "data": {
      "text/plain": [
       "'/projects/da_workspace/szspace/data/muts/no/A68233_batch_file.txt'"
      ]
     },
     "execution_count": 100,
     "metadata": {},
     "output_type": "execute_result"
    },
    {
     "name": "stdout",
     "output_type": "stream",
     "text": [
      "['5:1295150-1295350']\n"
     ]
    },
    {
     "data": {
      "text/plain": [
       "'/projects/da_workspace/szspace/data/muts/yes/A68233_batch_file.txt'"
      ]
     },
     "execution_count": 100,
     "metadata": {},
     "output_type": "execute_result"
    },
    {
     "name": "stdout",
     "output_type": "stream",
     "text": [
      "['10:42531255-42531455', '14:92653956-92654156', '14:107184194-107184394', '18:5171517-5171717', '20:62754337-62754537']\n"
     ]
    },
    {
     "data": {
      "text/plain": [
       "'/projects/da_workspace/szspace/data/muts/no/A68234_batch_file.txt'"
      ]
     },
     "execution_count": 100,
     "metadata": {},
     "output_type": "execute_result"
    },
    {
     "name": "stdout",
     "output_type": "stream",
     "text": [
      "['10:134424793-134424993', '7:35138803-35139003', '8:122213867-122214067', '9:33612231-33612431', '19:17115876-17116076', '20:61823999-61824199']\n"
     ]
    },
    {
     "data": {
      "text/plain": [
       "'/projects/da_workspace/szspace/data/muts/no/A68235_batch_file.txt'"
      ]
     },
     "execution_count": 100,
     "metadata": {},
     "output_type": "execute_result"
    },
    {
     "name": "stdout",
     "output_type": "stream",
     "text": [
      "['7:64037868-64038068', '11:3418442-3418642', '18:76725145-76725345']\n"
     ]
    },
    {
     "data": {
      "text/plain": [
       "'/projects/da_workspace/szspace/data/muts/no/A68236_batch_file.txt'"
      ]
     },
     "execution_count": 100,
     "metadata": {},
     "output_type": "execute_result"
    },
    {
     "name": "stdout",
     "output_type": "stream",
     "text": [
      "['2:3223346-3223546', '10:134424793-134424993', '1:154649994-154650194', '2:168342991-168343191', '9:33798770-33798970', '12:132926547-132926747', '13:114022179-114022379', '20:61823999-61824199', '20:62754337-62754537', '23:140877781-140877981']\n"
     ]
    },
    {
     "data": {
      "text/plain": [
       "'/projects/da_workspace/szspace/data/muts/no/A68237_batch_file.txt'"
      ]
     },
     "execution_count": 100,
     "metadata": {},
     "output_type": "execute_result"
    },
    {
     "name": "stdout",
     "output_type": "stream",
     "text": [
      "['11:39877869-39878069']\n"
     ]
    },
    {
     "data": {
      "text/plain": [
       "'/projects/da_workspace/szspace/data/muts/yes/A68237_batch_file.txt'"
      ]
     },
     "execution_count": 100,
     "metadata": {},
     "output_type": "execute_result"
    },
    {
     "name": "stdout",
     "output_type": "stream",
     "text": [
      "['11:69312579-69312779', '1:5734753-5734953', '3:86129106-86129306', '6:162076031-162076231', '7:83019160-83019360', '9:131225903-131226103', '9:133660660-133660860', '11:50748283-50748483', '12:110610627-110610827', '17:56194713-56194913']\n"
     ]
    },
    {
     "data": {
      "text/plain": [
       "'/projects/da_workspace/szspace/data/muts/no/A68238_batch_file.txt'"
      ]
     },
     "execution_count": 100,
     "metadata": {},
     "output_type": "execute_result"
    },
    {
     "name": "stdout",
     "output_type": "stream",
     "text": [
      "['9:73254517-73254717', '1:31201474-31201674', '3:77837254-77837454', '5:70821665-70821865', '5:70821696-70821896', '5:70821700-70821900', '8:34399713-34399913', '9:66819129-66819329', '9:133660660-133660860', '10:417585-417785', '17:52563328-52563528']\n"
     ]
    },
    {
     "data": {
      "text/plain": [
       "'/projects/da_workspace/szspace/data/muts/no/A68239_batch_file.txt'"
      ]
     },
     "execution_count": 100,
     "metadata": {},
     "output_type": "execute_result"
    },
    {
     "name": "stdout",
     "output_type": "stream",
     "text": [
      "['12:54515180-54515380', '15:35948353-35948553', '2:140552862-140553062', '3:178476272-178476472', '20:29623000-29623200', '20:61966217-61966417']\n"
     ]
    },
    {
     "data": {
      "text/plain": [
       "'/projects/da_workspace/szspace/data/muts/no/A68240_batch_file.txt'"
      ]
     },
     "execution_count": 100,
     "metadata": {},
     "output_type": "execute_result"
    },
    {
     "name": "stdout",
     "output_type": "stream",
     "text": [
      "['1:174033700-174033900', '6:170410401-170410601', '8:144474069-144474269', '20:59965502-59965702', '20:61966217-61966417', '20:62754337-62754537']\n"
     ]
    },
    {
     "data": {
      "text/plain": [
       "'/projects/da_workspace/szspace/data/muts/no/A68241_batch_file.txt'"
      ]
     },
     "execution_count": 100,
     "metadata": {},
     "output_type": "execute_result"
    },
    {
     "name": "stdout",
     "output_type": "stream",
     "text": [
      "['10:121481906-121482106', '16:33039442-33039642', '1:30138586-30138786', '11:117122055-117122255', '12:31073227-31073427']\n"
     ]
    },
    {
     "data": {
      "text/plain": [
       "'/projects/da_workspace/szspace/data/muts/no/A68243_batch_file.txt'"
      ]
     },
     "execution_count": 100,
     "metadata": {},
     "output_type": "execute_result"
    },
    {
     "name": "stdout",
     "output_type": "stream",
     "text": [
      "['9:33795449-33795649', '2:11872961-11873161', '9:35182642-35182842', '3:77372014-77372214', '3:149607265-149607465', '3:185173041-185173241', '5:32855932-32856132', '5:70821665-70821865', '5:70821696-70821896', '9:125473384-125473584', '12:110610627-110610827']\n"
     ]
    },
    {
     "data": {
      "text/plain": [
       "'/projects/da_workspace/szspace/data/muts/no/A68244_batch_file.txt'"
      ]
     },
     "execution_count": 100,
     "metadata": {},
     "output_type": "execute_result"
    },
    {
     "name": "stdout",
     "output_type": "stream",
     "text": [
      "['17:39789950-39790150', '2:140552862-140553062', '3:131288408-131288608', '3:149607265-149607465', '5:108116383-108116583', '8:113047796-113047996', '8:144474069-144474269', '18:5171517-5171717']\n"
     ]
    },
    {
     "data": {
      "text/plain": [
       "'/projects/da_workspace/szspace/data/muts/no/A68246_batch_file.txt'"
      ]
     },
     "execution_count": 100,
     "metadata": {},
     "output_type": "execute_result"
    },
    {
     "name": "stdout",
     "output_type": "stream",
     "text": [
      "['15:35948353-35948553', '23:38587561-38587761', '1:31201474-31201674', '2:81884041-81884241', '19:17115876-17116076', '19:41608695-41608895', '19:52359100-52359300']\n"
     ]
    },
    {
     "data": {
      "text/plain": [
       "'/projects/da_workspace/szspace/data/muts/no/A68247_batch_file.txt'"
      ]
     },
     "execution_count": 100,
     "metadata": {},
     "output_type": "execute_result"
    },
    {
     "name": "stdout",
     "output_type": "stream",
     "text": [
      "['7:158708205-158708405', '23:38587549-38587749', '23:38587619-38587819', '2:81884041-81884241', '3:195228179-195228379', '3:195670211-195670411', '3:195670212-195670412', '6:166702189-166702389']\n"
     ]
    },
    {
     "data": {
      "text/plain": [
       "'/projects/da_workspace/szspace/data/muts/no/A68248_batch_file.txt'"
      ]
     },
     "execution_count": 100,
     "metadata": {},
     "output_type": "execute_result"
    },
    {
     "name": "stdout",
     "output_type": "stream",
     "text": [
      "['6:92890160-92890360']\n"
     ]
    },
    {
     "data": {
      "text/plain": [
       "'/projects/da_workspace/szspace/data/muts/yes/A68248_batch_file.txt'"
      ]
     },
     "execution_count": 100,
     "metadata": {},
     "output_type": "execute_result"
    },
    {
     "name": "stdout",
     "output_type": "stream",
     "text": [
      "['9:33795449-33795649', '6:162076031-162076231', '7:64037868-64038068', '19:50974823-50975023']\n"
     ]
    },
    {
     "data": {
      "text/plain": [
       "'/projects/da_workspace/szspace/data/muts/no/A68249_batch_file.txt'"
      ]
     },
     "execution_count": 100,
     "metadata": {},
     "output_type": "execute_result"
    },
    {
     "name": "stdout",
     "output_type": "stream",
     "text": [
      "['2:42222574-42222774', '2:140552862-140553062', '3:149607265-149607465', '3:195669643-195669843', '5:33849548-33849748', '14:92653956-92654156', '14:107184194-107184394', '15:93897917-93898117', '19:17525895-17526095', '19:17525896-17526096']\n"
     ]
    },
    {
     "data": {
      "text/plain": [
       "'/projects/da_workspace/szspace/data/muts/no/A71828_batch_file.txt'"
      ]
     },
     "execution_count": 100,
     "metadata": {},
     "output_type": "execute_result"
    },
    {
     "name": "stdout",
     "output_type": "stream",
     "text": [
      "['9:33795449-33795649', '16:33039442-33039642', '3:185173041-185173241', '12:110610627-110610827', '16:33947413-33947613', '20:29623000-29623200']\n"
     ]
    },
    {
     "data": {
      "text/plain": [
       "'/projects/da_workspace/szspace/data/muts/no/A71832_batch_file.txt'"
      ]
     },
     "execution_count": 100,
     "metadata": {},
     "output_type": "execute_result"
    },
    {
     "name": "stdout",
     "output_type": "stream",
     "text": [
      "['3:77837275-77837475', '3:86129106-86129306', '3:185173041-185173241', '5:32855932-32856132', '6:18666938-18667138', '7:142484146-142484346', '12:132926547-132926747', '16:33505719-33505919', '16:33920599-33920799']\n"
     ]
    },
    {
     "data": {
      "text/plain": [
       "'/projects/da_workspace/szspace/data/muts/no/A71833_batch_file.txt'"
      ]
     },
     "execution_count": 100,
     "metadata": {},
     "output_type": "execute_result"
    },
    {
     "name": "stdout",
     "output_type": "stream",
     "text": [
      "['1:31201474-31201674', '2:81884041-81884241', '2:105595997-105596197', '2:133045704-133045904', '10:417585-417785', '18:27527215-27527415', '23:126311004-126311204']\n"
     ]
    },
    {
     "data": {
      "text/plain": [
       "'/projects/da_workspace/szspace/data/muts/no/A71836_batch_file.txt'"
      ]
     },
     "execution_count": 100,
     "metadata": {},
     "output_type": "execute_result"
    },
    {
     "name": "stdout",
     "output_type": "stream",
     "text": [
      "['5:17900520-17900720', '12:132926547-132926747', '15:93897917-93898117', '19:51314642-51314842', '21:9937233-9937433']\n"
     ]
    },
    {
     "data": {
      "text/plain": [
       "'/projects/da_workspace/szspace/data/muts/no/A71838_batch_file.txt'"
      ]
     },
     "execution_count": 100,
     "metadata": {},
     "output_type": "execute_result"
    },
    {
     "name": "stdout",
     "output_type": "stream",
     "text": [
      "['2:133045704-133045904', '5:177945421-177945621', '11:3418442-3418642']\n"
     ]
    },
    {
     "data": {
      "text/plain": [
       "'/projects/da_workspace/szspace/data/muts/no/A71842_batch_file.txt'"
      ]
     },
     "execution_count": 100,
     "metadata": {},
     "output_type": "execute_result"
    },
    {
     "name": "stdout",
     "output_type": "stream",
     "text": [
      "['3:48103046-48103246', '5:4189849-4190049', '2:168342991-168343191', '11:48894708-48894908', '12:38002102-38002302', '12:38002104-38002304', '16:33947413-33947613', '20:61966217-61966417']\n"
     ]
    },
    {
     "data": {
      "text/plain": [
       "'/projects/da_workspace/szspace/data/muts/no/A78394_batch_file.txt'"
      ]
     },
     "execution_count": 100,
     "metadata": {},
     "output_type": "execute_result"
    },
    {
     "name": "stdout",
     "output_type": "stream",
     "text": [
      "['9:73254517-73254717', '7:158708205-158708405', '2:9445464-9445664', '4:89753398-89753598', '11:48955944-48956144', '11:48955950-48956150']\n"
     ]
    },
    {
     "data": {
      "text/plain": [
       "'/projects/da_workspace/szspace/data/muts/no/A78402_batch_file.txt'"
      ]
     },
     "execution_count": 100,
     "metadata": {},
     "output_type": "execute_result"
    },
    {
     "name": "stdout",
     "output_type": "stream",
     "text": [
      "['11:39877869-39878069']\n"
     ]
    },
    {
     "data": {
      "text/plain": [
       "'/projects/da_workspace/szspace/data/muts/yes/A78402_batch_file.txt'"
      ]
     },
     "execution_count": 100,
     "metadata": {},
     "output_type": "execute_result"
    },
    {
     "name": "stdout",
     "output_type": "stream",
     "text": [
      "['5:4189849-4190049', '1:215185139-215185339', '3:197118277-197118477', '5:177945421-177945621', '8:122213867-122214067']\n"
     ]
    },
    {
     "data": {
      "text/plain": [
       "'/projects/da_workspace/szspace/data/muts/no/A78403_batch_file.txt'"
      ]
     },
     "execution_count": 100,
     "metadata": {},
     "output_type": "execute_result"
    },
    {
     "name": "stdout",
     "output_type": "stream",
     "text": [
      "['5:70821665-70821865', '5:70821700-70821900', '9:33798770-33798970']\n"
     ]
    },
    {
     "data": {
      "text/plain": [
       "'/projects/da_workspace/szspace/data/muts/no/A78405_batch_file.txt'"
      ]
     },
     "execution_count": 100,
     "metadata": {},
     "output_type": "execute_result"
    },
    {
     "name": "stdout",
     "output_type": "stream",
     "text": [
      "['2:42222574-42222774', '1:52270193-52270393', '3:77372014-77372214', '9:125473384-125473584', '12:38256388-38256588']\n"
     ]
    },
    {
     "data": {
      "text/plain": [
       "'/projects/da_workspace/szspace/data/muts/no/A78416_batch_file.txt'"
      ]
     },
     "execution_count": 100,
     "metadata": {},
     "output_type": "execute_result"
    },
    {
     "name": "stdout",
     "output_type": "stream",
     "text": [
      "['9:132200873-132201073', '2:42222574-42222774', '2:3223346-3223546', '3:195670148-195670348', '3:195670211-195670411', '3:195670212-195670412', '5:116337968-116338168', '7:35138803-35139003', '10:417585-417785']\n"
     ]
    },
    {
     "data": {
      "text/plain": [
       "'/projects/da_workspace/szspace/data/muts/no/A78418_batch_file.txt'"
      ]
     },
     "execution_count": 100,
     "metadata": {},
     "output_type": "execute_result"
    },
    {
     "name": "stdout",
     "output_type": "stream",
     "text": [
      "['7:65824350-65824550', '15:35948353-35948553', '16:33039442-33039642', '5:116337968-116338168', '5:180062527-180062727', '13:93048062-93048262', '18:76725145-76725345']\n"
     ]
    },
    {
     "data": {
      "text/plain": [
       "'/projects/da_workspace/szspace/data/muts/no/A78420_batch_file.txt'"
      ]
     },
     "execution_count": 100,
     "metadata": {},
     "output_type": "execute_result"
    },
    {
     "name": "stdout",
     "output_type": "stream",
     "text": [
      "['7:142461489-142461689', '3:8088070-8088270', '23:47927927-47928127', '1:215185139-215185339', '2:168342991-168343191', '2:228067617-228067817', '3:136359607-136359807', '5:116337968-116338168', '9:33798770-33798970', '9:69795474-69795674']\n"
     ]
    },
    {
     "data": {
      "text/plain": [
       "'/projects/da_workspace/szspace/data/muts/no/A78427_batch_file.txt'"
      ]
     },
     "execution_count": 100,
     "metadata": {},
     "output_type": "execute_result"
    },
    {
     "name": "stdout",
     "output_type": "stream",
     "text": [
      "['2:194913532-194913732', '3:136359607-136359807', '19:17115876-17116076']\n"
     ]
    },
    {
     "data": {
      "text/plain": [
       "'/projects/da_workspace/szspace/data/muts/no/A78429_batch_file.txt'"
      ]
     },
     "execution_count": 100,
     "metadata": {},
     "output_type": "execute_result"
    },
    {
     "name": "stdout",
     "output_type": "stream",
     "text": [
      "['1:16840650-16840850', '8:134226174-134226374', '9:4330619-4330819', '12:38002180-38002380', '19:41608695-41608895', '19:51314642-51314842', '20:54855731-54855931']\n"
     ]
    },
    {
     "data": {
      "text/plain": [
       "'/projects/da_workspace/szspace/data/muts/no/A78431_batch_file.txt'"
      ]
     },
     "execution_count": 100,
     "metadata": {},
     "output_type": "execute_result"
    },
    {
     "name": "stdout",
     "output_type": "stream",
     "text": [
      "['1:20952454-20952654', '2:228067673-228067873', '5:117618494-117618694', '9:125473384-125473584']\n"
     ]
    },
    {
     "data": {
      "text/plain": [
       "'/projects/da_workspace/szspace/data/muts/no/A78432_batch_file.txt'"
      ]
     },
     "execution_count": 100,
     "metadata": {},
     "output_type": "execute_result"
    },
    {
     "name": "stdout",
     "output_type": "stream",
     "text": [
      "['8:134226174-134226374', '12:29076405-29076605', '12:38017942-38018142', '17:56194713-56194913', '18:27527215-27527415']\n"
     ]
    },
    {
     "data": {
      "text/plain": [
       "'/projects/da_workspace/szspace/data/muts/no/A78433_batch_file.txt'"
      ]
     },
     "execution_count": 100,
     "metadata": {},
     "output_type": "execute_result"
    },
    {
     "name": "stdout",
     "output_type": "stream",
     "text": [
      "['20:51820520-51820720', '2:3223346-3223546', '3:48103046-48103246', '1:215185139-215185339', '3:103103361-103103561', '7:35138803-35139003', '11:48894652-48894852', '11:48894708-48894908', '12:38002104-38002304']\n"
     ]
    },
    {
     "data": {
      "text/plain": [
       "'/projects/da_workspace/szspace/data/muts/no/A78434_batch_file.txt'"
      ]
     },
     "execution_count": 100,
     "metadata": {},
     "output_type": "execute_result"
    },
    {
     "name": "stdout",
     "output_type": "stream",
     "text": [
      "['1:16840650-16840850', '10:121481906-121482106', '23:47927927-47928127', '15:93897917-93898117', '16:1004952-1005152']\n"
     ]
    },
    {
     "data": {
      "text/plain": [
       "'/projects/da_workspace/szspace/data/muts/no/A78436_batch_file.txt'"
      ]
     },
     "execution_count": 100,
     "metadata": {},
     "output_type": "execute_result"
    },
    {
     "name": "stdout",
     "output_type": "stream",
     "text": [
      "['6:92890160-92890360']\n"
     ]
    },
    {
     "data": {
      "text/plain": [
       "'/projects/da_workspace/szspace/data/muts/yes/A78436_batch_file.txt'"
      ]
     },
     "execution_count": 100,
     "metadata": {},
     "output_type": "execute_result"
    },
    {
     "name": "stdout",
     "output_type": "stream",
     "text": [
      "['1:153323062-153323262', '5:4189849-4190049', '1:52270193-52270393', '2:228067617-228067817', '2:228067673-228067873', '7:101132997-101133197', '19:41608695-41608895']\n"
     ]
    },
    {
     "data": {
      "text/plain": [
       "'/projects/da_workspace/szspace/data/muts/no/A78437_batch_file.txt'"
      ]
     },
     "execution_count": 100,
     "metadata": {},
     "output_type": "execute_result"
    },
    {
     "name": "stdout",
     "output_type": "stream",
     "text": [
      "['1:231257801-231258001', '12:38256388-38256588']\n"
     ]
    },
    {
     "data": {
      "text/plain": [
       "'/projects/da_workspace/szspace/data/muts/no/A78440_batch_file.txt'"
      ]
     },
     "execution_count": 100,
     "metadata": {},
     "output_type": "execute_result"
    },
    {
     "name": "stdout",
     "output_type": "stream",
     "text": [
      "['11:39877869-39878069']\n"
     ]
    },
    {
     "data": {
      "text/plain": [
       "'/projects/da_workspace/szspace/data/muts/yes/A78440_batch_file.txt'"
      ]
     },
     "execution_count": 100,
     "metadata": {},
     "output_type": "execute_result"
    }
   ],
   "source": [
    "template_dir = '/projects/trans_scratch/validations/workspace/szong/Cervical/notebook/'\n",
    "template_file = 'batch_file_template2.txt'\n",
    "outdir = '/projects/da_workspace/szspace/data/muts'\n",
    "for ix, row in dff.iterrows():\n",
    "    bam = row['bam']\n",
    "    real = row['is_real']\n",
    "    poss = row['position'].split(';')\n",
    "    fnames = row['fname'].split(';')\n",
    "    lib = row['lib']\n",
    "    print(poss)\n",
    "\n",
    "    out_file = f'{outdir}/{real}/{lib}_batch_file.txt'\n",
    "    render_template(template_dir, out_file, template_file, poss, bam, f'{outdir}/{real}', fnames)"
   ]
  },
  {
   "cell_type": "markdown",
   "metadata": {},
   "source": [
    "need to concatenate all batch files into a single file to generate the snapshot. otherwise if will just hang if you loop all files"
   ]
  },
  {
   "cell_type": "markdown",
   "metadata": {},
   "source": [
    "not sure how the resolution of the pixels is determined when taking a screen shot. They are quite different for the test set from cervical. it can be as large as 512x512."
   ]
  }
 ],
 "metadata": {
  "kernelspec": {
   "display_name": "Python 3",
   "language": "python",
   "name": "python3"
  },
  "language_info": {
   "codemirror_mode": {
    "name": "ipython",
    "version": 3
   },
   "file_extension": ".py",
   "mimetype": "text/x-python",
   "name": "python",
   "nbconvert_exporter": "python",
   "pygments_lexer": "ipython3",
   "version": "3.6.6"
  }
 },
 "nbformat": 4,
 "nbformat_minor": 2
}
