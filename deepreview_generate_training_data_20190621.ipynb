{
 "cells": [
  {
   "cell_type": "code",
   "execution_count": 1,
   "metadata": {},
   "outputs": [],
   "source": [
    "import pysam\n",
    "import pandas as pd\n",
    "import seaborn as sns\n",
    "from matplotlib import style, colors\n",
    "import matplotlib.pyplot as plt\n",
    "from IPython.core.interactiveshell import InteractiveShell\n",
    "InteractiveShell.ast_node_interactivity = \"all\""
   ]
  },
  {
   "cell_type": "code",
   "execution_count": 4,
   "metadata": {},
   "outputs": [],
   "source": [
    "vcf = '/projects/da_workspace/szspace/data/giab/HG001_GRCh37_GIAB_highconf_CG-IllFB-IllGATKHC-Ion-10X-SOLID_CHROM1-X_v.3.3.2_highconf_PGandRTGphasetransfer.vcf'\n"
   ]
  },
  {
   "cell_type": "markdown",
   "metadata": {},
   "source": [
    "### parse vcf to get SNVs"
   ]
  },
  {
   "cell_type": "code",
   "execution_count": 141,
   "metadata": {},
   "outputs": [],
   "source": [
    "def identify_category(df, category):\n",
    "    idx = df.effect.apply(lambda x: [i for i in x.split(';') if category in i][0].split('=')[1])\n",
    "    categories = df.effect.apply(lambda x: [i for i in x.split(';') if category in i][1].split('=')[1].split(',')) \n",
    "#     print(idx, categories)\n",
    "    df[category] = [y[int(x)-1] for x, y in zip(idx, categories)]\n",
    "    return df"
   ]
  },
  {
   "cell_type": "code",
   "execution_count": 145,
   "metadata": {},
   "outputs": [],
   "source": [
    "def parse_vcf(vcf):\n",
    "    df = pd.read_csv(vcf, comment='#', sep='\\t', header=None, low_memory=False)#, nrows=500)\n",
    "    print(df.head(2))\n",
    "#     patient = vcf.split('/')[4]\n",
    "    df = df[[0,1,3,4,7,9]]\n",
    "    df.columns = ['chr', 'pos', 'ref', 'alt', 'effect', 'genotypetmp']\n",
    "#     df['platform_num'] = df.effect.apply(lambda x: x.split(';')[0].split('=')[1])\n",
    "#     df['platform'] = df.effect.apply(lambda x: x.split(';')[1].split('=')[1].split(','))\n",
    "#     a = df.effect.apply(lambda x: [i for i in x.split(';') if 'platform' in i][0].split('=')[1])\n",
    "#     b = df.effect.apply(lambda x: [i for i in x.split(';') if 'platform' in i][1].split(',')) \n",
    "#     df['platform'] = [y[int(x)-1] for x, y in zip(a, b)]\n",
    "#     print(z)\n",
    "    df = identify_category(df, 'platform')\n",
    "    df = identify_category(df, 'dataset')\n",
    "#     df = df[(df['effect'].str.contains(\"platforms=1\"))&(df['effect'].str.contains(\"datasets=1\"))]\n",
    "    if not df.empty:\n",
    "        df['genotype'] = df['genotypetmp'].apply(lambda x: x.split(':')[0])\n",
    "        df.drop(['genotypetmp', 'effect'], axis=1, inplace=True)\n",
    "    df = df[(df.ref.str.len() == 1)&(df.alt.str.len() == 1)]\n",
    "    return df"
   ]
  },
  {
   "cell_type": "code",
   "execution_count": 146,
   "metadata": {},
   "outputs": [
    {
     "name": "stdout",
     "output_type": "stream",
     "text": [
      "   0       1            2  3  4   5     6  \\\n",
      "0  1  239339  rs184451216  A  G  50  PASS   \n",
      "1  1  239482  rs201702841  G  T  50  PASS   \n",
      "\n",
      "                                                   7  \\\n",
      "0  platforms=1;platformnames=10X;datasets=1;datas...   \n",
      "1  platforms=2;platformnames=10X,Illumina;dataset...   \n",
      "\n",
      "                              8                               9  \n",
      "0  GT:DP:ADALL:AD:GQ:IGT:IPS:PS        0/1:0:0,0:0,0:99:0/1:.:.  \n",
      "1  GT:DP:ADALL:AD:GQ:IGT:IPS:PS  0/1:403:92,104:0,0:198:0/1:.:.  \n"
     ]
    }
   ],
   "source": [
    "df = parse_vcf(vcf)"
   ]
  },
  {
   "cell_type": "code",
   "execution_count": 151,
   "metadata": {},
   "outputs": [
    {
     "data": {
      "text/plain": [
       "(3257176, 7)"
      ]
     },
     "execution_count": 151,
     "metadata": {},
     "output_type": "execute_result"
    },
    {
     "data": {
      "text/html": [
       "<div>\n",
       "<style scoped>\n",
       "    .dataframe tbody tr th:only-of-type {\n",
       "        vertical-align: middle;\n",
       "    }\n",
       "\n",
       "    .dataframe tbody tr th {\n",
       "        vertical-align: top;\n",
       "    }\n",
       "\n",
       "    .dataframe thead th {\n",
       "        text-align: right;\n",
       "    }\n",
       "</style>\n",
       "<table border=\"1\" class=\"dataframe\">\n",
       "  <thead>\n",
       "    <tr style=\"text-align: right;\">\n",
       "      <th></th>\n",
       "      <th>chr</th>\n",
       "      <th>pos</th>\n",
       "      <th>ref</th>\n",
       "      <th>alt</th>\n",
       "      <th>platform</th>\n",
       "      <th>dataset</th>\n",
       "      <th>genotype</th>\n",
       "    </tr>\n",
       "  </thead>\n",
       "  <tbody>\n",
       "    <tr>\n",
       "      <th>0</th>\n",
       "      <td>1</td>\n",
       "      <td>239339</td>\n",
       "      <td>A</td>\n",
       "      <td>G</td>\n",
       "      <td>10X</td>\n",
       "      <td>10XChromium</td>\n",
       "      <td>0/1</td>\n",
       "    </tr>\n",
       "    <tr>\n",
       "      <th>1</th>\n",
       "      <td>1</td>\n",
       "      <td>239482</td>\n",
       "      <td>G</td>\n",
       "      <td>T</td>\n",
       "      <td>Illumina</td>\n",
       "      <td>HiSeqPE300x</td>\n",
       "      <td>0/1</td>\n",
       "    </tr>\n",
       "    <tr>\n",
       "      <th>2</th>\n",
       "      <td>1</td>\n",
       "      <td>240147</td>\n",
       "      <td>C</td>\n",
       "      <td>T</td>\n",
       "      <td>Illumina</td>\n",
       "      <td>HiSeqPE300x</td>\n",
       "      <td>0/1</td>\n",
       "    </tr>\n",
       "  </tbody>\n",
       "</table>\n",
       "</div>"
      ],
      "text/plain": [
       "  chr     pos ref alt  platform      dataset genotype\n",
       "0   1  239339   A   G       10X  10XChromium      0/1\n",
       "1   1  239482   G   T  Illumina  HiSeqPE300x      0/1\n",
       "2   1  240147   C   T  Illumina  HiSeqPE300x      0/1"
      ]
     },
     "execution_count": 151,
     "metadata": {},
     "output_type": "execute_result"
    }
   ],
   "source": [
    "df.shape\n",
    "df.head(3)"
   ]
  },
  {
   "cell_type": "code",
   "execution_count": 153,
   "metadata": {},
   "outputs": [],
   "source": [
    "of = '/projects/da_workspace/szspace/data/giab/ground_truth_calls.txt'\n",
    "df.to_csv(of,index=False, sep='\\t')"
   ]
  },
  {
   "cell_type": "code",
   "execution_count": 149,
   "metadata": {},
   "outputs": [
    {
     "data": {
      "text/plain": [
       "(13438, 7)"
      ]
     },
     "execution_count": 149,
     "metadata": {},
     "output_type": "execute_result"
    }
   ],
   "source": [
    "df[(df.platform == 'Illumina')&(df.dataset == 'HiSeqPE300x')].shape"
   ]
  }
 ],
 "metadata": {
  "kernelspec": {
   "display_name": "Python 3",
   "language": "python",
   "name": "python3"
  },
  "language_info": {
   "codemirror_mode": {
    "name": "ipython",
    "version": 3
   },
   "file_extension": ".py",
   "mimetype": "text/x-python",
   "name": "python",
   "nbconvert_exporter": "python",
   "pygments_lexer": "ipython3",
   "version": "3.6.7"
  }
 },
 "nbformat": 4,
 "nbformat_minor": 2
}
